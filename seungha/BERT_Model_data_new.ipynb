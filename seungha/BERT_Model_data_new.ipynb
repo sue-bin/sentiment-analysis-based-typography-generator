{
  "nbformat": 4,
  "nbformat_minor": 0,
  "metadata": {
    "accelerator": "GPU",
    "colab": {
      "name": "BERT_Model_data_new.ipynb",
      "provenance": [],
      "collapsed_sections": []
    },
    "kernelspec": {
      "display_name": "Python 3",
      "name": "python3"
    },
    "widgets": {
      "application/vnd.jupyter.widget-state+json": {
        "cb15e1b7606f4acd8349eb03b4dbd4c9": {
          "model_module": "@jupyter-widgets/controls",
          "model_name": "HBoxModel",
          "state": {
            "_view_name": "HBoxView",
            "_dom_classes": [],
            "_model_name": "HBoxModel",
            "_view_module": "@jupyter-widgets/controls",
            "_model_module_version": "1.5.0",
            "_view_count": null,
            "_view_module_version": "1.5.0",
            "box_style": "",
            "layout": "IPY_MODEL_92eda3c80fda4b18b508cf4472d78310",
            "_model_module": "@jupyter-widgets/controls",
            "children": [
              "IPY_MODEL_a7ea9fb2e1d14122866c80f4d49935f0",
              "IPY_MODEL_d6a47276a4b042aca7f8b543869c287c"
            ]
          }
        },
        "92eda3c80fda4b18b508cf4472d78310": {
          "model_module": "@jupyter-widgets/base",
          "model_name": "LayoutModel",
          "state": {
            "_view_name": "LayoutView",
            "grid_template_rows": null,
            "right": null,
            "justify_content": null,
            "_view_module": "@jupyter-widgets/base",
            "overflow": null,
            "_model_module_version": "1.2.0",
            "_view_count": null,
            "flex_flow": null,
            "width": null,
            "min_width": null,
            "border": null,
            "align_items": null,
            "bottom": null,
            "_model_module": "@jupyter-widgets/base",
            "top": null,
            "grid_column": null,
            "overflow_y": null,
            "overflow_x": null,
            "grid_auto_flow": null,
            "grid_area": null,
            "grid_template_columns": null,
            "flex": null,
            "_model_name": "LayoutModel",
            "justify_items": null,
            "grid_row": null,
            "max_height": null,
            "align_content": null,
            "visibility": null,
            "align_self": null,
            "height": null,
            "min_height": null,
            "padding": null,
            "grid_auto_rows": null,
            "grid_gap": null,
            "max_width": null,
            "order": null,
            "_view_module_version": "1.2.0",
            "grid_template_areas": null,
            "object_position": null,
            "object_fit": null,
            "grid_auto_columns": null,
            "margin": null,
            "display": null,
            "left": null
          }
        },
        "a7ea9fb2e1d14122866c80f4d49935f0": {
          "model_module": "@jupyter-widgets/controls",
          "model_name": "FloatProgressModel",
          "state": {
            "_view_name": "ProgressView",
            "style": "IPY_MODEL_d41b9f8135854874ba4a98438404259c",
            "_dom_classes": [],
            "description": "Downloading: 100%",
            "_model_name": "FloatProgressModel",
            "bar_style": "success",
            "max": 570,
            "_view_module": "@jupyter-widgets/controls",
            "_model_module_version": "1.5.0",
            "value": 570,
            "_view_count": null,
            "_view_module_version": "1.5.0",
            "orientation": "horizontal",
            "min": 0,
            "description_tooltip": null,
            "_model_module": "@jupyter-widgets/controls",
            "layout": "IPY_MODEL_555d823c18fb44ad9b7560686123eb90"
          }
        },
        "d6a47276a4b042aca7f8b543869c287c": {
          "model_module": "@jupyter-widgets/controls",
          "model_name": "HTMLModel",
          "state": {
            "_view_name": "HTMLView",
            "style": "IPY_MODEL_95cecff8354447c3958219958bfa3354",
            "_dom_classes": [],
            "description": "",
            "_model_name": "HTMLModel",
            "placeholder": "​",
            "_view_module": "@jupyter-widgets/controls",
            "_model_module_version": "1.5.0",
            "value": " 570/570 [00:01&lt;00:00, 510B/s]",
            "_view_count": null,
            "_view_module_version": "1.5.0",
            "description_tooltip": null,
            "_model_module": "@jupyter-widgets/controls",
            "layout": "IPY_MODEL_31167902056d46a183e4e7cf83792df6"
          }
        },
        "d41b9f8135854874ba4a98438404259c": {
          "model_module": "@jupyter-widgets/controls",
          "model_name": "ProgressStyleModel",
          "state": {
            "_view_name": "StyleView",
            "_model_name": "ProgressStyleModel",
            "description_width": "initial",
            "_view_module": "@jupyter-widgets/base",
            "_model_module_version": "1.5.0",
            "_view_count": null,
            "_view_module_version": "1.2.0",
            "bar_color": null,
            "_model_module": "@jupyter-widgets/controls"
          }
        },
        "555d823c18fb44ad9b7560686123eb90": {
          "model_module": "@jupyter-widgets/base",
          "model_name": "LayoutModel",
          "state": {
            "_view_name": "LayoutView",
            "grid_template_rows": null,
            "right": null,
            "justify_content": null,
            "_view_module": "@jupyter-widgets/base",
            "overflow": null,
            "_model_module_version": "1.2.0",
            "_view_count": null,
            "flex_flow": null,
            "width": null,
            "min_width": null,
            "border": null,
            "align_items": null,
            "bottom": null,
            "_model_module": "@jupyter-widgets/base",
            "top": null,
            "grid_column": null,
            "overflow_y": null,
            "overflow_x": null,
            "grid_auto_flow": null,
            "grid_area": null,
            "grid_template_columns": null,
            "flex": null,
            "_model_name": "LayoutModel",
            "justify_items": null,
            "grid_row": null,
            "max_height": null,
            "align_content": null,
            "visibility": null,
            "align_self": null,
            "height": null,
            "min_height": null,
            "padding": null,
            "grid_auto_rows": null,
            "grid_gap": null,
            "max_width": null,
            "order": null,
            "_view_module_version": "1.2.0",
            "grid_template_areas": null,
            "object_position": null,
            "object_fit": null,
            "grid_auto_columns": null,
            "margin": null,
            "display": null,
            "left": null
          }
        },
        "95cecff8354447c3958219958bfa3354": {
          "model_module": "@jupyter-widgets/controls",
          "model_name": "DescriptionStyleModel",
          "state": {
            "_view_name": "StyleView",
            "_model_name": "DescriptionStyleModel",
            "description_width": "",
            "_view_module": "@jupyter-widgets/base",
            "_model_module_version": "1.5.0",
            "_view_count": null,
            "_view_module_version": "1.2.0",
            "_model_module": "@jupyter-widgets/controls"
          }
        },
        "31167902056d46a183e4e7cf83792df6": {
          "model_module": "@jupyter-widgets/base",
          "model_name": "LayoutModel",
          "state": {
            "_view_name": "LayoutView",
            "grid_template_rows": null,
            "right": null,
            "justify_content": null,
            "_view_module": "@jupyter-widgets/base",
            "overflow": null,
            "_model_module_version": "1.2.0",
            "_view_count": null,
            "flex_flow": null,
            "width": null,
            "min_width": null,
            "border": null,
            "align_items": null,
            "bottom": null,
            "_model_module": "@jupyter-widgets/base",
            "top": null,
            "grid_column": null,
            "overflow_y": null,
            "overflow_x": null,
            "grid_auto_flow": null,
            "grid_area": null,
            "grid_template_columns": null,
            "flex": null,
            "_model_name": "LayoutModel",
            "justify_items": null,
            "grid_row": null,
            "max_height": null,
            "align_content": null,
            "visibility": null,
            "align_self": null,
            "height": null,
            "min_height": null,
            "padding": null,
            "grid_auto_rows": null,
            "grid_gap": null,
            "max_width": null,
            "order": null,
            "_view_module_version": "1.2.0",
            "grid_template_areas": null,
            "object_position": null,
            "object_fit": null,
            "grid_auto_columns": null,
            "margin": null,
            "display": null,
            "left": null
          }
        },
        "f267ce640953460f9700c3d4ec125cf8": {
          "model_module": "@jupyter-widgets/controls",
          "model_name": "HBoxModel",
          "state": {
            "_view_name": "HBoxView",
            "_dom_classes": [],
            "_model_name": "HBoxModel",
            "_view_module": "@jupyter-widgets/controls",
            "_model_module_version": "1.5.0",
            "_view_count": null,
            "_view_module_version": "1.5.0",
            "box_style": "",
            "layout": "IPY_MODEL_768b5db83f614768bb0359f79c4b124b",
            "_model_module": "@jupyter-widgets/controls",
            "children": [
              "IPY_MODEL_258fbbddb0dc454da9ec3dd0cdf13871",
              "IPY_MODEL_7a7c498899b343bbba3318a246aac0fb"
            ]
          }
        },
        "768b5db83f614768bb0359f79c4b124b": {
          "model_module": "@jupyter-widgets/base",
          "model_name": "LayoutModel",
          "state": {
            "_view_name": "LayoutView",
            "grid_template_rows": null,
            "right": null,
            "justify_content": null,
            "_view_module": "@jupyter-widgets/base",
            "overflow": null,
            "_model_module_version": "1.2.0",
            "_view_count": null,
            "flex_flow": null,
            "width": null,
            "min_width": null,
            "border": null,
            "align_items": null,
            "bottom": null,
            "_model_module": "@jupyter-widgets/base",
            "top": null,
            "grid_column": null,
            "overflow_y": null,
            "overflow_x": null,
            "grid_auto_flow": null,
            "grid_area": null,
            "grid_template_columns": null,
            "flex": null,
            "_model_name": "LayoutModel",
            "justify_items": null,
            "grid_row": null,
            "max_height": null,
            "align_content": null,
            "visibility": null,
            "align_self": null,
            "height": null,
            "min_height": null,
            "padding": null,
            "grid_auto_rows": null,
            "grid_gap": null,
            "max_width": null,
            "order": null,
            "_view_module_version": "1.2.0",
            "grid_template_areas": null,
            "object_position": null,
            "object_fit": null,
            "grid_auto_columns": null,
            "margin": null,
            "display": null,
            "left": null
          }
        },
        "258fbbddb0dc454da9ec3dd0cdf13871": {
          "model_module": "@jupyter-widgets/controls",
          "model_name": "FloatProgressModel",
          "state": {
            "_view_name": "ProgressView",
            "style": "IPY_MODEL_e87e9fa5d1974068bdd375e90a3682e3",
            "_dom_classes": [],
            "description": "Downloading: 100%",
            "_model_name": "FloatProgressModel",
            "bar_style": "success",
            "max": 231508,
            "_view_module": "@jupyter-widgets/controls",
            "_model_module_version": "1.5.0",
            "value": 231508,
            "_view_count": null,
            "_view_module_version": "1.5.0",
            "orientation": "horizontal",
            "min": 0,
            "description_tooltip": null,
            "_model_module": "@jupyter-widgets/controls",
            "layout": "IPY_MODEL_87573ba3a5b84778a92fb77f509e3c55"
          }
        },
        "7a7c498899b343bbba3318a246aac0fb": {
          "model_module": "@jupyter-widgets/controls",
          "model_name": "HTMLModel",
          "state": {
            "_view_name": "HTMLView",
            "style": "IPY_MODEL_3ce914a5ca35451994fb4820fb5b876c",
            "_dom_classes": [],
            "description": "",
            "_model_name": "HTMLModel",
            "placeholder": "​",
            "_view_module": "@jupyter-widgets/controls",
            "_model_module_version": "1.5.0",
            "value": " 232k/232k [00:00&lt;00:00, 506kB/s]",
            "_view_count": null,
            "_view_module_version": "1.5.0",
            "description_tooltip": null,
            "_model_module": "@jupyter-widgets/controls",
            "layout": "IPY_MODEL_1c82921ee0354ae0a8a1fbe2a89f975a"
          }
        },
        "e87e9fa5d1974068bdd375e90a3682e3": {
          "model_module": "@jupyter-widgets/controls",
          "model_name": "ProgressStyleModel",
          "state": {
            "_view_name": "StyleView",
            "_model_name": "ProgressStyleModel",
            "description_width": "initial",
            "_view_module": "@jupyter-widgets/base",
            "_model_module_version": "1.5.0",
            "_view_count": null,
            "_view_module_version": "1.2.0",
            "bar_color": null,
            "_model_module": "@jupyter-widgets/controls"
          }
        },
        "87573ba3a5b84778a92fb77f509e3c55": {
          "model_module": "@jupyter-widgets/base",
          "model_name": "LayoutModel",
          "state": {
            "_view_name": "LayoutView",
            "grid_template_rows": null,
            "right": null,
            "justify_content": null,
            "_view_module": "@jupyter-widgets/base",
            "overflow": null,
            "_model_module_version": "1.2.0",
            "_view_count": null,
            "flex_flow": null,
            "width": null,
            "min_width": null,
            "border": null,
            "align_items": null,
            "bottom": null,
            "_model_module": "@jupyter-widgets/base",
            "top": null,
            "grid_column": null,
            "overflow_y": null,
            "overflow_x": null,
            "grid_auto_flow": null,
            "grid_area": null,
            "grid_template_columns": null,
            "flex": null,
            "_model_name": "LayoutModel",
            "justify_items": null,
            "grid_row": null,
            "max_height": null,
            "align_content": null,
            "visibility": null,
            "align_self": null,
            "height": null,
            "min_height": null,
            "padding": null,
            "grid_auto_rows": null,
            "grid_gap": null,
            "max_width": null,
            "order": null,
            "_view_module_version": "1.2.0",
            "grid_template_areas": null,
            "object_position": null,
            "object_fit": null,
            "grid_auto_columns": null,
            "margin": null,
            "display": null,
            "left": null
          }
        },
        "3ce914a5ca35451994fb4820fb5b876c": {
          "model_module": "@jupyter-widgets/controls",
          "model_name": "DescriptionStyleModel",
          "state": {
            "_view_name": "StyleView",
            "_model_name": "DescriptionStyleModel",
            "description_width": "",
            "_view_module": "@jupyter-widgets/base",
            "_model_module_version": "1.5.0",
            "_view_count": null,
            "_view_module_version": "1.2.0",
            "_model_module": "@jupyter-widgets/controls"
          }
        },
        "1c82921ee0354ae0a8a1fbe2a89f975a": {
          "model_module": "@jupyter-widgets/base",
          "model_name": "LayoutModel",
          "state": {
            "_view_name": "LayoutView",
            "grid_template_rows": null,
            "right": null,
            "justify_content": null,
            "_view_module": "@jupyter-widgets/base",
            "overflow": null,
            "_model_module_version": "1.2.0",
            "_view_count": null,
            "flex_flow": null,
            "width": null,
            "min_width": null,
            "border": null,
            "align_items": null,
            "bottom": null,
            "_model_module": "@jupyter-widgets/base",
            "top": null,
            "grid_column": null,
            "overflow_y": null,
            "overflow_x": null,
            "grid_auto_flow": null,
            "grid_area": null,
            "grid_template_columns": null,
            "flex": null,
            "_model_name": "LayoutModel",
            "justify_items": null,
            "grid_row": null,
            "max_height": null,
            "align_content": null,
            "visibility": null,
            "align_self": null,
            "height": null,
            "min_height": null,
            "padding": null,
            "grid_auto_rows": null,
            "grid_gap": null,
            "max_width": null,
            "order": null,
            "_view_module_version": "1.2.0",
            "grid_template_areas": null,
            "object_position": null,
            "object_fit": null,
            "grid_auto_columns": null,
            "margin": null,
            "display": null,
            "left": null
          }
        },
        "1b2e991babf147d2a2e326b0b8f4fbd0": {
          "model_module": "@jupyter-widgets/controls",
          "model_name": "HBoxModel",
          "state": {
            "_view_name": "HBoxView",
            "_dom_classes": [],
            "_model_name": "HBoxModel",
            "_view_module": "@jupyter-widgets/controls",
            "_model_module_version": "1.5.0",
            "_view_count": null,
            "_view_module_version": "1.5.0",
            "box_style": "",
            "layout": "IPY_MODEL_0a9b232bdf8b4a56b55d17e4a577cf88",
            "_model_module": "@jupyter-widgets/controls",
            "children": [
              "IPY_MODEL_3dc1f6e84f4b4f85958fe83141bcb3c6",
              "IPY_MODEL_8106c95b1e4e4bbcb3cc79c2d47e04b4"
            ]
          }
        },
        "0a9b232bdf8b4a56b55d17e4a577cf88": {
          "model_module": "@jupyter-widgets/base",
          "model_name": "LayoutModel",
          "state": {
            "_view_name": "LayoutView",
            "grid_template_rows": null,
            "right": null,
            "justify_content": null,
            "_view_module": "@jupyter-widgets/base",
            "overflow": null,
            "_model_module_version": "1.2.0",
            "_view_count": null,
            "flex_flow": null,
            "width": null,
            "min_width": null,
            "border": null,
            "align_items": null,
            "bottom": null,
            "_model_module": "@jupyter-widgets/base",
            "top": null,
            "grid_column": null,
            "overflow_y": null,
            "overflow_x": null,
            "grid_auto_flow": null,
            "grid_area": null,
            "grid_template_columns": null,
            "flex": null,
            "_model_name": "LayoutModel",
            "justify_items": null,
            "grid_row": null,
            "max_height": null,
            "align_content": null,
            "visibility": null,
            "align_self": null,
            "height": null,
            "min_height": null,
            "padding": null,
            "grid_auto_rows": null,
            "grid_gap": null,
            "max_width": null,
            "order": null,
            "_view_module_version": "1.2.0",
            "grid_template_areas": null,
            "object_position": null,
            "object_fit": null,
            "grid_auto_columns": null,
            "margin": null,
            "display": null,
            "left": null
          }
        },
        "3dc1f6e84f4b4f85958fe83141bcb3c6": {
          "model_module": "@jupyter-widgets/controls",
          "model_name": "FloatProgressModel",
          "state": {
            "_view_name": "ProgressView",
            "style": "IPY_MODEL_5dfc6933c34c44c6a23e7d07b6629b1e",
            "_dom_classes": [],
            "description": "Downloading: 100%",
            "_model_name": "FloatProgressModel",
            "bar_style": "success",
            "max": 466062,
            "_view_module": "@jupyter-widgets/controls",
            "_model_module_version": "1.5.0",
            "value": 466062,
            "_view_count": null,
            "_view_module_version": "1.5.0",
            "orientation": "horizontal",
            "min": 0,
            "description_tooltip": null,
            "_model_module": "@jupyter-widgets/controls",
            "layout": "IPY_MODEL_77578eaead6d4055afbfcbcbcd0ae009"
          }
        },
        "8106c95b1e4e4bbcb3cc79c2d47e04b4": {
          "model_module": "@jupyter-widgets/controls",
          "model_name": "HTMLModel",
          "state": {
            "_view_name": "HTMLView",
            "style": "IPY_MODEL_c985c8908a714e9f988cca18cf1fb72c",
            "_dom_classes": [],
            "description": "",
            "_model_name": "HTMLModel",
            "placeholder": "​",
            "_view_module": "@jupyter-widgets/controls",
            "_model_module_version": "1.5.0",
            "value": " 466k/466k [00:02&lt;00:00, 230kB/s]",
            "_view_count": null,
            "_view_module_version": "1.5.0",
            "description_tooltip": null,
            "_model_module": "@jupyter-widgets/controls",
            "layout": "IPY_MODEL_3506205f49ed4130883f990205ff9655"
          }
        },
        "5dfc6933c34c44c6a23e7d07b6629b1e": {
          "model_module": "@jupyter-widgets/controls",
          "model_name": "ProgressStyleModel",
          "state": {
            "_view_name": "StyleView",
            "_model_name": "ProgressStyleModel",
            "description_width": "initial",
            "_view_module": "@jupyter-widgets/base",
            "_model_module_version": "1.5.0",
            "_view_count": null,
            "_view_module_version": "1.2.0",
            "bar_color": null,
            "_model_module": "@jupyter-widgets/controls"
          }
        },
        "77578eaead6d4055afbfcbcbcd0ae009": {
          "model_module": "@jupyter-widgets/base",
          "model_name": "LayoutModel",
          "state": {
            "_view_name": "LayoutView",
            "grid_template_rows": null,
            "right": null,
            "justify_content": null,
            "_view_module": "@jupyter-widgets/base",
            "overflow": null,
            "_model_module_version": "1.2.0",
            "_view_count": null,
            "flex_flow": null,
            "width": null,
            "min_width": null,
            "border": null,
            "align_items": null,
            "bottom": null,
            "_model_module": "@jupyter-widgets/base",
            "top": null,
            "grid_column": null,
            "overflow_y": null,
            "overflow_x": null,
            "grid_auto_flow": null,
            "grid_area": null,
            "grid_template_columns": null,
            "flex": null,
            "_model_name": "LayoutModel",
            "justify_items": null,
            "grid_row": null,
            "max_height": null,
            "align_content": null,
            "visibility": null,
            "align_self": null,
            "height": null,
            "min_height": null,
            "padding": null,
            "grid_auto_rows": null,
            "grid_gap": null,
            "max_width": null,
            "order": null,
            "_view_module_version": "1.2.0",
            "grid_template_areas": null,
            "object_position": null,
            "object_fit": null,
            "grid_auto_columns": null,
            "margin": null,
            "display": null,
            "left": null
          }
        },
        "c985c8908a714e9f988cca18cf1fb72c": {
          "model_module": "@jupyter-widgets/controls",
          "model_name": "DescriptionStyleModel",
          "state": {
            "_view_name": "StyleView",
            "_model_name": "DescriptionStyleModel",
            "description_width": "",
            "_view_module": "@jupyter-widgets/base",
            "_model_module_version": "1.5.0",
            "_view_count": null,
            "_view_module_version": "1.2.0",
            "_model_module": "@jupyter-widgets/controls"
          }
        },
        "3506205f49ed4130883f990205ff9655": {
          "model_module": "@jupyter-widgets/base",
          "model_name": "LayoutModel",
          "state": {
            "_view_name": "LayoutView",
            "grid_template_rows": null,
            "right": null,
            "justify_content": null,
            "_view_module": "@jupyter-widgets/base",
            "overflow": null,
            "_model_module_version": "1.2.0",
            "_view_count": null,
            "flex_flow": null,
            "width": null,
            "min_width": null,
            "border": null,
            "align_items": null,
            "bottom": null,
            "_model_module": "@jupyter-widgets/base",
            "top": null,
            "grid_column": null,
            "overflow_y": null,
            "overflow_x": null,
            "grid_auto_flow": null,
            "grid_area": null,
            "grid_template_columns": null,
            "flex": null,
            "_model_name": "LayoutModel",
            "justify_items": null,
            "grid_row": null,
            "max_height": null,
            "align_content": null,
            "visibility": null,
            "align_self": null,
            "height": null,
            "min_height": null,
            "padding": null,
            "grid_auto_rows": null,
            "grid_gap": null,
            "max_width": null,
            "order": null,
            "_view_module_version": "1.2.0",
            "grid_template_areas": null,
            "object_position": null,
            "object_fit": null,
            "grid_auto_columns": null,
            "margin": null,
            "display": null,
            "left": null
          }
        },
        "1a404aba41544aed975d1ee04c0585f0": {
          "model_module": "@jupyter-widgets/controls",
          "model_name": "HBoxModel",
          "state": {
            "_view_name": "HBoxView",
            "_dom_classes": [],
            "_model_name": "HBoxModel",
            "_view_module": "@jupyter-widgets/controls",
            "_model_module_version": "1.5.0",
            "_view_count": null,
            "_view_module_version": "1.5.0",
            "box_style": "",
            "layout": "IPY_MODEL_80eebe3571674b0481be2af0eebf1175",
            "_model_module": "@jupyter-widgets/controls",
            "children": [
              "IPY_MODEL_0a4be4f9161542ecb3c47dbe4cad6a97",
              "IPY_MODEL_0e0a291bc4ef4343bc6050dd7dba6a68"
            ]
          }
        },
        "80eebe3571674b0481be2af0eebf1175": {
          "model_module": "@jupyter-widgets/base",
          "model_name": "LayoutModel",
          "state": {
            "_view_name": "LayoutView",
            "grid_template_rows": null,
            "right": null,
            "justify_content": null,
            "_view_module": "@jupyter-widgets/base",
            "overflow": null,
            "_model_module_version": "1.2.0",
            "_view_count": null,
            "flex_flow": null,
            "width": null,
            "min_width": null,
            "border": null,
            "align_items": null,
            "bottom": null,
            "_model_module": "@jupyter-widgets/base",
            "top": null,
            "grid_column": null,
            "overflow_y": null,
            "overflow_x": null,
            "grid_auto_flow": null,
            "grid_area": null,
            "grid_template_columns": null,
            "flex": null,
            "_model_name": "LayoutModel",
            "justify_items": null,
            "grid_row": null,
            "max_height": null,
            "align_content": null,
            "visibility": null,
            "align_self": null,
            "height": null,
            "min_height": null,
            "padding": null,
            "grid_auto_rows": null,
            "grid_gap": null,
            "max_width": null,
            "order": null,
            "_view_module_version": "1.2.0",
            "grid_template_areas": null,
            "object_position": null,
            "object_fit": null,
            "grid_auto_columns": null,
            "margin": null,
            "display": null,
            "left": null
          }
        },
        "0a4be4f9161542ecb3c47dbe4cad6a97": {
          "model_module": "@jupyter-widgets/controls",
          "model_name": "FloatProgressModel",
          "state": {
            "_view_name": "ProgressView",
            "style": "IPY_MODEL_185aabdf21374b28b853ab9b022c486e",
            "_dom_classes": [],
            "description": "Downloading: 100%",
            "_model_name": "FloatProgressModel",
            "bar_style": "success",
            "max": 28,
            "_view_module": "@jupyter-widgets/controls",
            "_model_module_version": "1.5.0",
            "value": 28,
            "_view_count": null,
            "_view_module_version": "1.5.0",
            "orientation": "horizontal",
            "min": 0,
            "description_tooltip": null,
            "_model_module": "@jupyter-widgets/controls",
            "layout": "IPY_MODEL_de13184003c5486c998a6d226a8c398e"
          }
        },
        "0e0a291bc4ef4343bc6050dd7dba6a68": {
          "model_module": "@jupyter-widgets/controls",
          "model_name": "HTMLModel",
          "state": {
            "_view_name": "HTMLView",
            "style": "IPY_MODEL_495162479aa44cde811b83fc00caf354",
            "_dom_classes": [],
            "description": "",
            "_model_name": "HTMLModel",
            "placeholder": "​",
            "_view_module": "@jupyter-widgets/controls",
            "_model_module_version": "1.5.0",
            "value": " 28.0/28.0 [00:00&lt;00:00, 45.3B/s]",
            "_view_count": null,
            "_view_module_version": "1.5.0",
            "description_tooltip": null,
            "_model_module": "@jupyter-widgets/controls",
            "layout": "IPY_MODEL_a28ac8954bac4358abff1c65f71a33d4"
          }
        },
        "185aabdf21374b28b853ab9b022c486e": {
          "model_module": "@jupyter-widgets/controls",
          "model_name": "ProgressStyleModel",
          "state": {
            "_view_name": "StyleView",
            "_model_name": "ProgressStyleModel",
            "description_width": "initial",
            "_view_module": "@jupyter-widgets/base",
            "_model_module_version": "1.5.0",
            "_view_count": null,
            "_view_module_version": "1.2.0",
            "bar_color": null,
            "_model_module": "@jupyter-widgets/controls"
          }
        },
        "de13184003c5486c998a6d226a8c398e": {
          "model_module": "@jupyter-widgets/base",
          "model_name": "LayoutModel",
          "state": {
            "_view_name": "LayoutView",
            "grid_template_rows": null,
            "right": null,
            "justify_content": null,
            "_view_module": "@jupyter-widgets/base",
            "overflow": null,
            "_model_module_version": "1.2.0",
            "_view_count": null,
            "flex_flow": null,
            "width": null,
            "min_width": null,
            "border": null,
            "align_items": null,
            "bottom": null,
            "_model_module": "@jupyter-widgets/base",
            "top": null,
            "grid_column": null,
            "overflow_y": null,
            "overflow_x": null,
            "grid_auto_flow": null,
            "grid_area": null,
            "grid_template_columns": null,
            "flex": null,
            "_model_name": "LayoutModel",
            "justify_items": null,
            "grid_row": null,
            "max_height": null,
            "align_content": null,
            "visibility": null,
            "align_self": null,
            "height": null,
            "min_height": null,
            "padding": null,
            "grid_auto_rows": null,
            "grid_gap": null,
            "max_width": null,
            "order": null,
            "_view_module_version": "1.2.0",
            "grid_template_areas": null,
            "object_position": null,
            "object_fit": null,
            "grid_auto_columns": null,
            "margin": null,
            "display": null,
            "left": null
          }
        },
        "495162479aa44cde811b83fc00caf354": {
          "model_module": "@jupyter-widgets/controls",
          "model_name": "DescriptionStyleModel",
          "state": {
            "_view_name": "StyleView",
            "_model_name": "DescriptionStyleModel",
            "description_width": "",
            "_view_module": "@jupyter-widgets/base",
            "_model_module_version": "1.5.0",
            "_view_count": null,
            "_view_module_version": "1.2.0",
            "_model_module": "@jupyter-widgets/controls"
          }
        },
        "a28ac8954bac4358abff1c65f71a33d4": {
          "model_module": "@jupyter-widgets/base",
          "model_name": "LayoutModel",
          "state": {
            "_view_name": "LayoutView",
            "grid_template_rows": null,
            "right": null,
            "justify_content": null,
            "_view_module": "@jupyter-widgets/base",
            "overflow": null,
            "_model_module_version": "1.2.0",
            "_view_count": null,
            "flex_flow": null,
            "width": null,
            "min_width": null,
            "border": null,
            "align_items": null,
            "bottom": null,
            "_model_module": "@jupyter-widgets/base",
            "top": null,
            "grid_column": null,
            "overflow_y": null,
            "overflow_x": null,
            "grid_auto_flow": null,
            "grid_area": null,
            "grid_template_columns": null,
            "flex": null,
            "_model_name": "LayoutModel",
            "justify_items": null,
            "grid_row": null,
            "max_height": null,
            "align_content": null,
            "visibility": null,
            "align_self": null,
            "height": null,
            "min_height": null,
            "padding": null,
            "grid_auto_rows": null,
            "grid_gap": null,
            "max_width": null,
            "order": null,
            "_view_module_version": "1.2.0",
            "grid_template_areas": null,
            "object_position": null,
            "object_fit": null,
            "grid_auto_columns": null,
            "margin": null,
            "display": null,
            "left": null
          }
        },
        "a5143aeff8904b48b7c26d4b81fba37d": {
          "model_module": "@jupyter-widgets/controls",
          "model_name": "HBoxModel",
          "state": {
            "_view_name": "HBoxView",
            "_dom_classes": [],
            "_model_name": "HBoxModel",
            "_view_module": "@jupyter-widgets/controls",
            "_model_module_version": "1.5.0",
            "_view_count": null,
            "_view_module_version": "1.5.0",
            "box_style": "",
            "layout": "IPY_MODEL_2e9b1bd90cd64fd6948326525ccd6262",
            "_model_module": "@jupyter-widgets/controls",
            "children": [
              "IPY_MODEL_26674e9e140a441e816ab1c3e7e9267d",
              "IPY_MODEL_fdd418536d6e4d3f9dcf330f04fe94a1"
            ]
          }
        },
        "2e9b1bd90cd64fd6948326525ccd6262": {
          "model_module": "@jupyter-widgets/base",
          "model_name": "LayoutModel",
          "state": {
            "_view_name": "LayoutView",
            "grid_template_rows": null,
            "right": null,
            "justify_content": null,
            "_view_module": "@jupyter-widgets/base",
            "overflow": null,
            "_model_module_version": "1.2.0",
            "_view_count": null,
            "flex_flow": null,
            "width": null,
            "min_width": null,
            "border": null,
            "align_items": null,
            "bottom": null,
            "_model_module": "@jupyter-widgets/base",
            "top": null,
            "grid_column": null,
            "overflow_y": null,
            "overflow_x": null,
            "grid_auto_flow": null,
            "grid_area": null,
            "grid_template_columns": null,
            "flex": null,
            "_model_name": "LayoutModel",
            "justify_items": null,
            "grid_row": null,
            "max_height": null,
            "align_content": null,
            "visibility": null,
            "align_self": null,
            "height": null,
            "min_height": null,
            "padding": null,
            "grid_auto_rows": null,
            "grid_gap": null,
            "max_width": null,
            "order": null,
            "_view_module_version": "1.2.0",
            "grid_template_areas": null,
            "object_position": null,
            "object_fit": null,
            "grid_auto_columns": null,
            "margin": null,
            "display": null,
            "left": null
          }
        },
        "26674e9e140a441e816ab1c3e7e9267d": {
          "model_module": "@jupyter-widgets/controls",
          "model_name": "FloatProgressModel",
          "state": {
            "_view_name": "ProgressView",
            "style": "IPY_MODEL_7058f919d8034f86ab202b30595989d8",
            "_dom_classes": [],
            "description": "Downloading: 100%",
            "_model_name": "FloatProgressModel",
            "bar_style": "success",
            "max": 536063208,
            "_view_module": "@jupyter-widgets/controls",
            "_model_module_version": "1.5.0",
            "value": 536063208,
            "_view_count": null,
            "_view_module_version": "1.5.0",
            "orientation": "horizontal",
            "min": 0,
            "description_tooltip": null,
            "_model_module": "@jupyter-widgets/controls",
            "layout": "IPY_MODEL_f0946238b47745fabf7ae08f92954198"
          }
        },
        "fdd418536d6e4d3f9dcf330f04fe94a1": {
          "model_module": "@jupyter-widgets/controls",
          "model_name": "HTMLModel",
          "state": {
            "_view_name": "HTMLView",
            "style": "IPY_MODEL_3a7db7c8440d4b4eb476e219ddae7925",
            "_dom_classes": [],
            "description": "",
            "_model_name": "HTMLModel",
            "placeholder": "​",
            "_view_module": "@jupyter-widgets/controls",
            "_model_module_version": "1.5.0",
            "value": " 536M/536M [00:16&lt;00:00, 32.0MB/s]",
            "_view_count": null,
            "_view_module_version": "1.5.0",
            "description_tooltip": null,
            "_model_module": "@jupyter-widgets/controls",
            "layout": "IPY_MODEL_8e8168a8b0f7489b9f142faabbd633a6"
          }
        },
        "7058f919d8034f86ab202b30595989d8": {
          "model_module": "@jupyter-widgets/controls",
          "model_name": "ProgressStyleModel",
          "state": {
            "_view_name": "StyleView",
            "_model_name": "ProgressStyleModel",
            "description_width": "initial",
            "_view_module": "@jupyter-widgets/base",
            "_model_module_version": "1.5.0",
            "_view_count": null,
            "_view_module_version": "1.2.0",
            "bar_color": null,
            "_model_module": "@jupyter-widgets/controls"
          }
        },
        "f0946238b47745fabf7ae08f92954198": {
          "model_module": "@jupyter-widgets/base",
          "model_name": "LayoutModel",
          "state": {
            "_view_name": "LayoutView",
            "grid_template_rows": null,
            "right": null,
            "justify_content": null,
            "_view_module": "@jupyter-widgets/base",
            "overflow": null,
            "_model_module_version": "1.2.0",
            "_view_count": null,
            "flex_flow": null,
            "width": null,
            "min_width": null,
            "border": null,
            "align_items": null,
            "bottom": null,
            "_model_module": "@jupyter-widgets/base",
            "top": null,
            "grid_column": null,
            "overflow_y": null,
            "overflow_x": null,
            "grid_auto_flow": null,
            "grid_area": null,
            "grid_template_columns": null,
            "flex": null,
            "_model_name": "LayoutModel",
            "justify_items": null,
            "grid_row": null,
            "max_height": null,
            "align_content": null,
            "visibility": null,
            "align_self": null,
            "height": null,
            "min_height": null,
            "padding": null,
            "grid_auto_rows": null,
            "grid_gap": null,
            "max_width": null,
            "order": null,
            "_view_module_version": "1.2.0",
            "grid_template_areas": null,
            "object_position": null,
            "object_fit": null,
            "grid_auto_columns": null,
            "margin": null,
            "display": null,
            "left": null
          }
        },
        "3a7db7c8440d4b4eb476e219ddae7925": {
          "model_module": "@jupyter-widgets/controls",
          "model_name": "DescriptionStyleModel",
          "state": {
            "_view_name": "StyleView",
            "_model_name": "DescriptionStyleModel",
            "description_width": "",
            "_view_module": "@jupyter-widgets/base",
            "_model_module_version": "1.5.0",
            "_view_count": null,
            "_view_module_version": "1.2.0",
            "_model_module": "@jupyter-widgets/controls"
          }
        },
        "8e8168a8b0f7489b9f142faabbd633a6": {
          "model_module": "@jupyter-widgets/base",
          "model_name": "LayoutModel",
          "state": {
            "_view_name": "LayoutView",
            "grid_template_rows": null,
            "right": null,
            "justify_content": null,
            "_view_module": "@jupyter-widgets/base",
            "overflow": null,
            "_model_module_version": "1.2.0",
            "_view_count": null,
            "flex_flow": null,
            "width": null,
            "min_width": null,
            "border": null,
            "align_items": null,
            "bottom": null,
            "_model_module": "@jupyter-widgets/base",
            "top": null,
            "grid_column": null,
            "overflow_y": null,
            "overflow_x": null,
            "grid_auto_flow": null,
            "grid_area": null,
            "grid_template_columns": null,
            "flex": null,
            "_model_name": "LayoutModel",
            "justify_items": null,
            "grid_row": null,
            "max_height": null,
            "align_content": null,
            "visibility": null,
            "align_self": null,
            "height": null,
            "min_height": null,
            "padding": null,
            "grid_auto_rows": null,
            "grid_gap": null,
            "max_width": null,
            "order": null,
            "_view_module_version": "1.2.0",
            "grid_template_areas": null,
            "object_position": null,
            "object_fit": null,
            "grid_auto_columns": null,
            "margin": null,
            "display": null,
            "left": null
          }
        }
      }
    }
  },
  "cells": [
    {
      "cell_type": "markdown",
      "metadata": {
        "id": "YntdfBea-24e"
      },
      "source": [
        "# Introduction"
      ]
    },
    {
      "cell_type": "markdown",
      "metadata": {
        "id": "AIILW4GZ_DWE"
      },
      "source": [
        "\n",
        "\n",
        "*   BERT is an NLP model that has been design by Google\n",
        "*   It is considered as one of the most efficient algorithms\n",
        "*   It has been pre-trained on two corpuses (more than 3 billion words in total)\n",
        "*   Based on a mecanism called \"attention\" that helps putting word into context\n",
        "*   In this notebook, we are going to fine-tune the BERT model on our dataset\n",
        "\n"
      ]
    },
    {
      "cell_type": "markdown",
      "metadata": {
        "id": "bmJO_oLA2ejV"
      },
      "source": [
        "# 1 - Importing libraries and loading data"
      ]
    },
    {
      "cell_type": "markdown",
      "metadata": {
        "id": "maR0coq3F5rp"
      },
      "source": [
        "## 1.1 - Installing and importing libraries"
      ]
    },
    {
      "cell_type": "markdown",
      "metadata": {
        "id": "z-WkRpzNBKRZ"
      },
      "source": [
        "First, let's install the `transformers` library which contains thousands of pre-trained models, including BERT."
      ]
    },
    {
      "cell_type": "code",
      "metadata": {
        "colab": {
          "base_uri": "https://localhost:8080/"
        },
        "id": "3E2AKlZ1kzNa",
        "outputId": "3e6c7849-60f6-4239-a089-725084f6f837"
      },
      "source": [
        "!pip install transformers\n",
        "!pip install emoji\n",
        "!pip install contractions"
      ],
      "execution_count": 1,
      "outputs": [
        {
          "output_type": "stream",
          "text": [
            "Collecting transformers\n",
            "\u001b[?25l  Downloading https://files.pythonhosted.org/packages/00/92/6153f4912b84ee1ab53ab45663d23e7cf3704161cb5ef18b0c07e207cef2/transformers-4.7.0-py3-none-any.whl (2.5MB)\n",
            "\u001b[K     |████████████████████████████████| 2.5MB 6.8MB/s \n",
            "\u001b[?25hRequirement already satisfied: requests in /usr/local/lib/python3.7/dist-packages (from transformers) (2.23.0)\n",
            "Requirement already satisfied: packaging in /usr/local/lib/python3.7/dist-packages (from transformers) (20.9)\n",
            "Requirement already satisfied: filelock in /usr/local/lib/python3.7/dist-packages (from transformers) (3.0.12)\n",
            "Collecting sacremoses\n",
            "\u001b[?25l  Downloading https://files.pythonhosted.org/packages/75/ee/67241dc87f266093c533a2d4d3d69438e57d7a90abb216fa076e7d475d4a/sacremoses-0.0.45-py3-none-any.whl (895kB)\n",
            "\u001b[K     |████████████████████████████████| 901kB 46.1MB/s \n",
            "\u001b[?25hRequirement already satisfied: regex!=2019.12.17 in /usr/local/lib/python3.7/dist-packages (from transformers) (2019.12.20)\n",
            "Requirement already satisfied: tqdm>=4.27 in /usr/local/lib/python3.7/dist-packages (from transformers) (4.41.1)\n",
            "Requirement already satisfied: importlib-metadata; python_version < \"3.8\" in /usr/local/lib/python3.7/dist-packages (from transformers) (4.5.0)\n",
            "Requirement already satisfied: pyyaml in /usr/local/lib/python3.7/dist-packages (from transformers) (3.13)\n",
            "Collecting tokenizers<0.11,>=0.10.1\n",
            "\u001b[?25l  Downloading https://files.pythonhosted.org/packages/d4/e2/df3543e8ffdab68f5acc73f613de9c2b155ac47f162e725dcac87c521c11/tokenizers-0.10.3-cp37-cp37m-manylinux_2_5_x86_64.manylinux1_x86_64.manylinux_2_12_x86_64.manylinux2010_x86_64.whl (3.3MB)\n",
            "\u001b[K     |████████████████████████████████| 3.3MB 40.3MB/s \n",
            "\u001b[?25hRequirement already satisfied: numpy>=1.17 in /usr/local/lib/python3.7/dist-packages (from transformers) (1.19.5)\n",
            "Collecting huggingface-hub==0.0.8\n",
            "  Downloading https://files.pythonhosted.org/packages/a1/88/7b1e45720ecf59c6c6737ff332f41c955963090a18e72acbcbeac6b25e86/huggingface_hub-0.0.8-py3-none-any.whl\n",
            "Requirement already satisfied: urllib3!=1.25.0,!=1.25.1,<1.26,>=1.21.1 in /usr/local/lib/python3.7/dist-packages (from requests->transformers) (1.24.3)\n",
            "Requirement already satisfied: certifi>=2017.4.17 in /usr/local/lib/python3.7/dist-packages (from requests->transformers) (2021.5.30)\n",
            "Requirement already satisfied: chardet<4,>=3.0.2 in /usr/local/lib/python3.7/dist-packages (from requests->transformers) (3.0.4)\n",
            "Requirement already satisfied: idna<3,>=2.5 in /usr/local/lib/python3.7/dist-packages (from requests->transformers) (2.10)\n",
            "Requirement already satisfied: pyparsing>=2.0.2 in /usr/local/lib/python3.7/dist-packages (from packaging->transformers) (2.4.7)\n",
            "Requirement already satisfied: joblib in /usr/local/lib/python3.7/dist-packages (from sacremoses->transformers) (1.0.1)\n",
            "Requirement already satisfied: six in /usr/local/lib/python3.7/dist-packages (from sacremoses->transformers) (1.15.0)\n",
            "Requirement already satisfied: click in /usr/local/lib/python3.7/dist-packages (from sacremoses->transformers) (7.1.2)\n",
            "Requirement already satisfied: typing-extensions>=3.6.4; python_version < \"3.8\" in /usr/local/lib/python3.7/dist-packages (from importlib-metadata; python_version < \"3.8\"->transformers) (3.7.4.3)\n",
            "Requirement already satisfied: zipp>=0.5 in /usr/local/lib/python3.7/dist-packages (from importlib-metadata; python_version < \"3.8\"->transformers) (3.4.1)\n",
            "Installing collected packages: sacremoses, tokenizers, huggingface-hub, transformers\n",
            "Successfully installed huggingface-hub-0.0.8 sacremoses-0.0.45 tokenizers-0.10.3 transformers-4.7.0\n",
            "Collecting emoji\n",
            "\u001b[?25l  Downloading https://files.pythonhosted.org/packages/24/fa/b3368f41b95a286f8d300e323449ab4e86b85334c2e0b477e94422b8ed0f/emoji-1.2.0-py3-none-any.whl (131kB)\n",
            "\u001b[K     |████████████████████████████████| 133kB 7.5MB/s \n",
            "\u001b[?25hInstalling collected packages: emoji\n",
            "Successfully installed emoji-1.2.0\n",
            "Collecting contractions\n",
            "  Downloading https://files.pythonhosted.org/packages/93/f4/0ec4a458e4368cc3be2c799411ecf0bc961930e566dadb9624563821b3a6/contractions-0.0.52-py2.py3-none-any.whl\n",
            "Collecting textsearch>=0.0.21\n",
            "  Downloading https://files.pythonhosted.org/packages/d3/fe/021d7d76961b5ceb9f8d022c4138461d83beff36c3938dc424586085e559/textsearch-0.0.21-py2.py3-none-any.whl\n",
            "Collecting pyahocorasick\n",
            "\u001b[?25l  Downloading https://files.pythonhosted.org/packages/7f/c2/eae730037ae1cbbfaa229d27030d1d5e34a1e41114b21447d1202ae9c220/pyahocorasick-1.4.2.tar.gz (321kB)\n",
            "\u001b[K     |████████████████████████████████| 327kB 8.2MB/s \n",
            "\u001b[?25hCollecting anyascii\n",
            "\u001b[?25l  Downloading https://files.pythonhosted.org/packages/a3/14/666cd44bf53f36a961544af592cb5c5c800013f9c51a4745af8d7c17362a/anyascii-0.2.0-py3-none-any.whl (283kB)\n",
            "\u001b[K     |████████████████████████████████| 286kB 45.2MB/s \n",
            "\u001b[?25hBuilding wheels for collected packages: pyahocorasick\n",
            "  Building wheel for pyahocorasick (setup.py) ... \u001b[?25l\u001b[?25hdone\n",
            "  Created wheel for pyahocorasick: filename=pyahocorasick-1.4.2-cp37-cp37m-linux_x86_64.whl size=85398 sha256=00019056f0bd900b8b62d26810b8184ae1305e6a8e0e01e6a9b7a58dc8dd1041\n",
            "  Stored in directory: /root/.cache/pip/wheels/3a/03/34/77e3ece0bba8b86bfac88a79f923b36d805cad63caeba38842\n",
            "Successfully built pyahocorasick\n",
            "Installing collected packages: pyahocorasick, anyascii, textsearch, contractions\n",
            "Successfully installed anyascii-0.2.0 contractions-0.0.52 pyahocorasick-1.4.2 textsearch-0.0.21\n"
          ],
          "name": "stdout"
        }
      ]
    },
    {
      "cell_type": "code",
      "metadata": {
        "id": "_wBm5n-nd3mz"
      },
      "source": [
        "# Data manipulation libraries\n",
        "import sys, os\n",
        "import pandas as pd\n",
        "import numpy as np\n",
        "import json\n",
        "\n",
        "import emoji\n",
        "import contractions\n",
        "import re\n",
        "\n",
        "# Scikit-learn packages\n",
        "from sklearn.metrics import accuracy_score\n",
        "from sklearn.metrics import precision_recall_fscore_support\n",
        "from sklearn.utils.class_weight import compute_class_weight\n",
        "\n",
        "# Packages to define a BERT model\n",
        "from transformers import TFBertModel, BertTokenizerFast, BertConfig\n",
        "\n",
        "# Keras and TensorFlow packages\n",
        "import tensorflow as tf\n",
        "from tensorflow import keras\n",
        "from tensorflow.keras import layers\n",
        "from keras import backend as K\n",
        "from tensorflow.keras.layers import Input, Dropout, Dense\n",
        "from tensorflow.keras.models import Model\n",
        "from tensorflow.keras.optimizers import Adam\n",
        "from tensorflow.keras.initializers import TruncatedNormal"
      ],
      "execution_count": 2,
      "outputs": []
    },
    {
      "cell_type": "code",
      "metadata": {
        "colab": {
          "base_uri": "https://localhost:8080/"
        },
        "id": "CcGjMGCU8edq",
        "outputId": "608e3352-8d2c-46eb-b9e2-a93dd06c88bb"
      },
      "source": [
        "from google.colab import drive\n",
        "drive.mount('/content/drive')"
      ],
      "execution_count": 3,
      "outputs": [
        {
          "output_type": "stream",
          "text": [
            "Mounted at /content/drive\n"
          ],
          "name": "stdout"
        }
      ]
    },
    {
      "cell_type": "markdown",
      "metadata": {
        "id": "v6SjRuZCGQq7"
      },
      "source": [
        "## 1.2 - Loading datasets and lists of emotions"
      ]
    },
    {
      "cell_type": "markdown",
      "metadata": {
        "id": "C4GNLM5oEOKu"
      },
      "source": [
        "First, let's load our clean data."
      ]
    },
    {
      "cell_type": "code",
      "metadata": {
        "colab": {
          "base_uri": "https://localhost:8080/"
        },
        "id": "kXcnOj1nlnrb",
        "outputId": "2dc0c291-c7da-400e-e4b2-56193fe532c4"
      },
      "source": [
        "# Importing train, validation and test datasets with preprocessed texts and labels\n",
        "train_GE = pd.read_csv(\"/content/drive/MyDrive/YBIGTA/2021-1 컨퍼런스(감성타이포)/train_bert.csv\")\n",
        "val_GE = pd.read_csv(\"/content/drive/MyDrive/YBIGTA/2021-1 컨퍼런스(감성타이포)/val_bert.csv\")\n",
        "test_GE = pd.read_csv(\"/content/drive/MyDrive/YBIGTA/2021-1 컨퍼런스(감성타이포)/test_bert.csv\")\n",
        "\n",
        "# Shape validation\n",
        "print(train_GE.shape)\n",
        "print(val_GE.shape)\n",
        "print(test_GE.shape)"
      ],
      "execution_count": 4,
      "outputs": [
        {
          "output_type": "stream",
          "text": [
            "(108113, 9)\n",
            "(13515, 9)\n",
            "(13514, 9)\n"
          ],
          "name": "stdout"
        }
      ]
    },
    {
      "cell_type": "code",
      "metadata": {
        "colab": {
          "base_uri": "https://localhost:8080/",
          "height": 415
        },
        "id": "1iwcXHOgalU8",
        "outputId": "e6e02fe4-2cdd-4bc2-dbbd-0621a84a26c7"
      },
      "source": [
        "train_GE"
      ],
      "execution_count": 5,
      "outputs": [
        {
          "output_type": "execute_result",
          "data": {
            "text/html": [
              "<div>\n",
              "<style scoped>\n",
              "    .dataframe tbody tr th:only-of-type {\n",
              "        vertical-align: middle;\n",
              "    }\n",
              "\n",
              "    .dataframe tbody tr th {\n",
              "        vertical-align: top;\n",
              "    }\n",
              "\n",
              "    .dataframe thead th {\n",
              "        text-align: right;\n",
              "    }\n",
              "</style>\n",
              "<table border=\"1\" class=\"dataframe\">\n",
              "  <thead>\n",
              "    <tr style=\"text-align: right;\">\n",
              "      <th></th>\n",
              "      <th>Unnamed: 0</th>\n",
              "      <th>text</th>\n",
              "      <th>anger</th>\n",
              "      <th>disgust</th>\n",
              "      <th>fear</th>\n",
              "      <th>joy</th>\n",
              "      <th>sadness</th>\n",
              "      <th>surprise</th>\n",
              "      <th>no emotion</th>\n",
              "    </tr>\n",
              "  </thead>\n",
              "  <tbody>\n",
              "    <tr>\n",
              "      <th>0</th>\n",
              "      <td>142066</td>\n",
              "      <td>i alternate between feeling embarrassed and ex...</td>\n",
              "      <td>0</td>\n",
              "      <td>0</td>\n",
              "      <td>0</td>\n",
              "      <td>0</td>\n",
              "      <td>1</td>\n",
              "      <td>0</td>\n",
              "      <td>0</td>\n",
              "    </tr>\n",
              "    <tr>\n",
              "      <th>1</th>\n",
              "      <td>41053</td>\n",
              "      <td>What eye shadow do you think is the most fit f...</td>\n",
              "      <td>0</td>\n",
              "      <td>0</td>\n",
              "      <td>0</td>\n",
              "      <td>0</td>\n",
              "      <td>0</td>\n",
              "      <td>0</td>\n",
              "      <td>1</td>\n",
              "    </tr>\n",
              "    <tr>\n",
              "      <th>2</th>\n",
              "      <td>22039</td>\n",
              "      <td>Hello , can I speak to Alice , please ?</td>\n",
              "      <td>0</td>\n",
              "      <td>0</td>\n",
              "      <td>0</td>\n",
              "      <td>0</td>\n",
              "      <td>0</td>\n",
              "      <td>0</td>\n",
              "      <td>1</td>\n",
              "    </tr>\n",
              "    <tr>\n",
              "      <th>3</th>\n",
              "      <td>184892</td>\n",
              "      <td>who are real name ? be specific which denomina...</td>\n",
              "      <td>0</td>\n",
              "      <td>0</td>\n",
              "      <td>0</td>\n",
              "      <td>0</td>\n",
              "      <td>0</td>\n",
              "      <td>1</td>\n",
              "      <td>0</td>\n",
              "    </tr>\n",
              "    <tr>\n",
              "      <th>4</th>\n",
              "      <td>135894</td>\n",
              "      <td>im feeling cranky cantankerous and resentful l...</td>\n",
              "      <td>1</td>\n",
              "      <td>0</td>\n",
              "      <td>0</td>\n",
              "      <td>0</td>\n",
              "      <td>0</td>\n",
              "      <td>0</td>\n",
              "      <td>0</td>\n",
              "    </tr>\n",
              "    <tr>\n",
              "      <th>...</th>\n",
              "      <td>...</td>\n",
              "      <td>...</td>\n",
              "      <td>...</td>\n",
              "      <td>...</td>\n",
              "      <td>...</td>\n",
              "      <td>...</td>\n",
              "      <td>...</td>\n",
              "      <td>...</td>\n",
              "      <td>...</td>\n",
              "    </tr>\n",
              "    <tr>\n",
              "      <th>108108</th>\n",
              "      <td>120611</td>\n",
              "      <td>i want to scream to yell at everyone who i fee...</td>\n",
              "      <td>1</td>\n",
              "      <td>0</td>\n",
              "      <td>0</td>\n",
              "      <td>0</td>\n",
              "      <td>0</td>\n",
              "      <td>0</td>\n",
              "      <td>0</td>\n",
              "    </tr>\n",
              "    <tr>\n",
              "      <th>108109</th>\n",
              "      <td>96645</td>\n",
              "      <td>OK . We will e-mail you all the information yo...</td>\n",
              "      <td>0</td>\n",
              "      <td>0</td>\n",
              "      <td>0</td>\n",
              "      <td>1</td>\n",
              "      <td>0</td>\n",
              "      <td>0</td>\n",
              "      <td>0</td>\n",
              "    </tr>\n",
              "    <tr>\n",
              "      <th>108110</th>\n",
              "      <td>190719</td>\n",
              "      <td>after a few loops of the fall is it just me th...</td>\n",
              "      <td>0</td>\n",
              "      <td>0</td>\n",
              "      <td>0</td>\n",
              "      <td>0</td>\n",
              "      <td>0</td>\n",
              "      <td>1</td>\n",
              "      <td>0</td>\n",
              "    </tr>\n",
              "    <tr>\n",
              "      <th>108111</th>\n",
              "      <td>132156</td>\n",
              "      <td>i know but i m also upset because i increasing...</td>\n",
              "      <td>0</td>\n",
              "      <td>0</td>\n",
              "      <td>0</td>\n",
              "      <td>1</td>\n",
              "      <td>0</td>\n",
              "      <td>0</td>\n",
              "      <td>0</td>\n",
              "    </tr>\n",
              "    <tr>\n",
              "      <th>108112</th>\n",
              "      <td>106464</td>\n",
              "      <td>i sighed feeling like she was doomed to fail a...</td>\n",
              "      <td>0</td>\n",
              "      <td>0</td>\n",
              "      <td>0</td>\n",
              "      <td>0</td>\n",
              "      <td>1</td>\n",
              "      <td>0</td>\n",
              "      <td>0</td>\n",
              "    </tr>\n",
              "  </tbody>\n",
              "</table>\n",
              "<p>108113 rows × 9 columns</p>\n",
              "</div>"
            ],
            "text/plain": [
              "        Unnamed: 0  ... no emotion\n",
              "0           142066  ...          0\n",
              "1            41053  ...          1\n",
              "2            22039  ...          1\n",
              "3           184892  ...          0\n",
              "4           135894  ...          0\n",
              "...            ...  ...        ...\n",
              "108108      120611  ...          0\n",
              "108109       96645  ...          0\n",
              "108110      190719  ...          0\n",
              "108111      132156  ...          0\n",
              "108112      106464  ...          0\n",
              "\n",
              "[108113 rows x 9 columns]"
            ]
          },
          "metadata": {
            "tags": []
          },
          "execution_count": 5
        }
      ]
    },
    {
      "cell_type": "markdown",
      "metadata": {
        "id": "LpawvOCVEgCd"
      },
      "source": [
        "Let's also load the lits of emotions from GoEmotions and Ekman taxonomies."
      ]
    },
    {
      "cell_type": "code",
      "metadata": {
        "colab": {
          "base_uri": "https://localhost:8080/"
        },
        "id": "HKI8gFsUEayQ",
        "outputId": "64269395-ec2a-4637-f411-6c5d7e05a7cf"
      },
      "source": [
        "# Loading emotion labels for GoEmotions taxonomy\n",
        "with open(\"/content/drive/MyDrive/YBIGTA/2021-1 컨퍼런스(감성타이포)/ekman_labels.txt\", \"r\") as file:\n",
        "    GE_taxonomy = file.read().split(\"\\n\")\n",
        "print(\"Emotions on GoEmotions taxonomy are : \\n{}\".format(GE_taxonomy))\n",
        "\n",
        "print()\n",
        "\n",
        "# Loading emotion labels for Ekman taxonomy\n",
        "with open(\"/content/drive/MyDrive/YBIGTA/2021-1 컨퍼런스(감성타이포)/ekman_labels.txt\", \"r\") as file:\n",
        "    Ekman_taxonomy = file.read().split(\"\\n\")\n",
        "print(\"Emotions on Ekman taxonomy are : \\n{}\".format(Ekman_taxonomy))"
      ],
      "execution_count": 6,
      "outputs": [
        {
          "output_type": "stream",
          "text": [
            "Emotions on GoEmotions taxonomy are : \n",
            "['anger', 'disgust', 'fear', 'joy', 'sadness', 'surprise', 'neutral']\n",
            "\n",
            "Emotions on Ekman taxonomy are : \n",
            "['anger', 'disgust', 'fear', 'joy', 'sadness', 'surprise', 'neutral']\n"
          ],
          "name": "stdout"
        }
      ]
    },
    {
      "cell_type": "code",
      "metadata": {
        "id": "vysZ5TNye07A"
      },
      "source": [
        "GE_taxonomy = ['anger', 'disgust', 'fear', 'joy', 'sadness', 'surprise', 'no emotion']\n",
        "Ekman_taxonomy = ['anger', 'disgust', 'fear', 'joy', 'sadness', 'surprise', 'no emotion']"
      ],
      "execution_count": 7,
      "outputs": []
    },
    {
      "cell_type": "code",
      "metadata": {
        "id": "FqbaOblDlttu"
      },
      "source": [
        "# Building a preprocessing function to clean text\n",
        "def preprocess_corpus(x):\n",
        "\n",
        "  # Adding a space between words and punctation\n",
        "  x = re.sub( r'([a-zA-Z\\[\\]])([,;.!?])', r'\\1 \\2', x)\n",
        "  x = re.sub( r'([,;.!?])([a-zA-Z\\[\\]])', r'\\1 \\2', x)\n",
        "  \n",
        "  # Demojize\n",
        "  x = emoji.demojize(x)\n",
        "  \n",
        "  # Expand contraction\n",
        "  x = contractions.fix(x)\n",
        "  \n",
        "  # Lower\n",
        "  x = x.lower()\n",
        "\n",
        "  #correct some acronyms/typos/abbreviations  \n",
        "  x = re.sub(r\"lmao\", \"laughing my ass off\", x)  \n",
        "  x = re.sub(r\"amirite\", \"am i right\", x)\n",
        "  x = re.sub(r\"\\b(tho)\\b\", \"though\", x)\n",
        "  x = re.sub(r\"\\b(ikr)\\b\", \"i know right\", x)\n",
        "  x = re.sub(r\"\\b(ya|u)\\b\", \"you\", x)\n",
        "  x = re.sub(r\"\\b(eu)\\b\", \"europe\", x)\n",
        "  x = re.sub(r\"\\b(da)\\b\", \"the\", x)\n",
        "  x = re.sub(r\"\\b(dat)\\b\", \"that\", x)\n",
        "  x = re.sub(r\"\\b(dats)\\b\", \"that is\", x)\n",
        "  x = re.sub(r\"\\b(cuz)\\b\", \"because\", x)\n",
        "  x = re.sub(r\"\\b(fkn)\\b\", \"fucking\", x)\n",
        "  x = re.sub(r\"\\b(tbh)\\b\", \"to be honest\", x)\n",
        "  x = re.sub(r\"\\b(tbf)\\b\", \"to be fair\", x)\n",
        "  x = re.sub(r\"faux pas\", \"mistake\", x)\n",
        "  x = re.sub(r\"\\b(btw)\\b\", \"by the way\", x)\n",
        "  x = re.sub(r\"\\b(bs)\\b\", \"bullshit\", x)\n",
        "  x = re.sub(r\"\\b(kinda)\\b\", \"kind of\", x)\n",
        "  x = re.sub(r\"\\b(bruh)\\b\", \"bro\", x)\n",
        "  x = re.sub(r\"\\b(w/e)\\b\", \"whatever\", x)\n",
        "  x = re.sub(r\"\\b(w/)\\b\", \"with\", x)\n",
        "  x = re.sub(r\"\\b(w/o)\\b\", \"without\", x)\n",
        "  x = re.sub(r\"\\b(doj)\\b\", \"department of justice\", x)\n",
        "  \n",
        "  #replace some words with multiple occurences of a letter, example \"coooool\" turns into --> cool\n",
        "  x = re.sub(r\"\\b(j+e{2,}z+e*)\\b\", \"jeez\", x)\n",
        "  x = re.sub(r\"\\b(co+l+)\\b\", \"cool\", x)\n",
        "  x = re.sub(r\"\\b(g+o+a+l+)\\b\", \"goal\", x)\n",
        "  x = re.sub(r\"\\b(s+h+i+t+)\\b\", \"shit\", x)\n",
        "  x = re.sub(r\"\\b(o+m+g+)\\b\", \"omg\", x)\n",
        "  x = re.sub(r\"\\b(w+t+f+)\\b\", \"wtf\", x)\n",
        "  x = re.sub(r\"\\b(w+h+a+t+)\\b\", \"what\", x)\n",
        "  x = re.sub(r\"\\b(y+e+y+|y+a+y+|y+e+a+h+)\\b\", \"yeah\", x)\n",
        "  x = re.sub(r\"\\b(w+o+w+)\\b\", \"wow\", x)\n",
        "  x = re.sub(r\"\\b(w+h+y+)\\b\", \"why\", x)\n",
        "  x = re.sub(r\"\\b(s+o+)\\b\", \"so\", x)\n",
        "  x = re.sub(r\"\\b(f)\\b\", \"fuck\", x)\n",
        "  x = re.sub(r\"\\b(w+h+o+p+s+)\\b\", \"whoops\", x)\n",
        "  x = re.sub(r\"\\b(ofc)\\b\", \"of course\", x)\n",
        "  x = re.sub(r\"\\b(the us)\\b\", \"usa\", x)\n",
        "  x = re.sub(r\"\\b(gf)\\b\", \"girlfriend\", x)\n",
        "  x = re.sub(r\"\\b(hr)\\b\", \"human ressources\", x)\n",
        "  x = re.sub(r\"\\b(mh)\\b\", \"mental health\", x)\n",
        "  x = re.sub(r\"\\b(idk)\\b\", \"i do not know\", x)\n",
        "  x = re.sub(r\"\\b(gotcha)\\b\", \"i got you\", x)\n",
        "  x = re.sub(r\"\\b(y+e+p+)\\b\", \"yes\", x)\n",
        "  x = re.sub(r\"\\b(a*ha+h[ha]*|a*ha +h[ha]*)\\b\", \"haha\", x)\n",
        "  x = re.sub(r\"\\b(o?l+o+l+[ol]*)\\b\", \"lol\", x)\n",
        "  x = re.sub(r\"\\b(o*ho+h[ho]*|o*ho +h[ho]*)\\b\", \"ohoh\", x)\n",
        "  x = re.sub(r\"\\b(o+h+)\\b\", \"oh\", x)\n",
        "  x = re.sub(r\"\\b(a+h+)\\b\", \"ah\", x)\n",
        "  x = re.sub(r\"\\b(u+h+)\\b\", \"uh\", x)\n",
        "\n",
        "  # Handling emojis\n",
        "  x = re.sub(r\"<3\", \" love \", x)\n",
        "  x = re.sub(r\"xd\", \" smiling_face_with_open_mouth_and_tightly_closed_eyes \", x)\n",
        "  x = re.sub(r\":\\)\", \" smiling_face \", x)\n",
        "  x = re.sub(r\"^_^\", \" smiling_face \", x)\n",
        "  x = re.sub(r\"\\*_\\*\", \" star_struck \", x)\n",
        "  x = re.sub(r\":\\(\", \" frowning_face \", x)\n",
        "  x = re.sub(r\":\\^\\(\", \" frowning_face \", x)\n",
        "  x = re.sub(r\";\\(\", \" frowning_face \", x)\n",
        "  x = re.sub(r\":\\/\",  \" confused_face\", x)\n",
        "  x = re.sub(r\";\\)\",  \" wink\", x)\n",
        "  x = re.sub(r\">__<\",  \" unamused \", x)\n",
        "  x = re.sub(r\"\\b([xo]+x*)\\b\", \" xoxo \", x)\n",
        "  x = re.sub(r\"\\b(n+a+h+)\\b\", \"no\", x)\n",
        "\n",
        "  # Handling special cases of text\n",
        "  x = re.sub(r\"h a m b e r d e r s\", \"hamberders\", x)\n",
        "  x = re.sub(r\"b e n\", \"ben\", x)\n",
        "  x = re.sub(r\"s a t i r e\", \"satire\", x)\n",
        "  x = re.sub(r\"y i k e s\", \"yikes\", x)\n",
        "  x = re.sub(r\"s p o i l e r\", \"spoiler\", x)\n",
        "  x = re.sub(r\"thankyou\", \"thank you\", x)\n",
        "  x = re.sub(r\"a^r^o^o^o^o^o^o^o^n^d\", \"around\", x)\n",
        "\n",
        "  # Remove special characters and numbers replace by space + remove double space\n",
        "  x = re.sub(r\"\\b([.]{3,})\",\" dots \", x)\n",
        "  x = re.sub(r\"[^A-Za-z!?_]+\",\" \", x)\n",
        "  x = re.sub(r\"\\b([s])\\b *\",\"\", x)\n",
        "  x = re.sub(r\" +\",\" \", x)\n",
        "  x = x.strip()\n",
        "\n",
        "  return x"
      ],
      "execution_count": 8,
      "outputs": []
    },
    {
      "cell_type": "code",
      "metadata": {
        "colab": {
          "base_uri": "https://localhost:8080/",
          "height": 202
        },
        "id": "ltSPJo1Rltrl",
        "outputId": "d3c6a0dd-c649-49fb-dac7-e14839afe3e1"
      },
      "source": [
        "# Applying the preprocessing function on the dataset\n",
        "train_GE[\"Clean_text\"] = train_GE[\"text\"].apply(preprocess_corpus)\n",
        "test_GE[\"Clean_text\"] = test_GE[\"text\"].apply(preprocess_corpus)\n",
        "val_GE[\"Clean_text\"] = val_GE[\"text\"].apply(preprocess_corpus)\n",
        "\n",
        "# Preview of data\n",
        "display(train_GE[['text', 'Clean_text']].sample(5))"
      ],
      "execution_count": 10,
      "outputs": [
        {
          "output_type": "display_data",
          "data": {
            "text/html": [
              "<div>\n",
              "<style scoped>\n",
              "    .dataframe tbody tr th:only-of-type {\n",
              "        vertical-align: middle;\n",
              "    }\n",
              "\n",
              "    .dataframe tbody tr th {\n",
              "        vertical-align: top;\n",
              "    }\n",
              "\n",
              "    .dataframe thead th {\n",
              "        text-align: right;\n",
              "    }\n",
              "</style>\n",
              "<table border=\"1\" class=\"dataframe\">\n",
              "  <thead>\n",
              "    <tr style=\"text-align: right;\">\n",
              "      <th></th>\n",
              "      <th>text</th>\n",
              "      <th>Clean_text</th>\n",
              "    </tr>\n",
              "  </thead>\n",
              "  <tbody>\n",
              "    <tr>\n",
              "      <th>38139</th>\n",
              "      <td>Just yesterday . I'm still getting used to it .</td>\n",
              "      <td>just yesterday i am still getting used to it</td>\n",
              "    </tr>\n",
              "    <tr>\n",
              "      <th>25401</th>\n",
              "      <td>oh no i agree that its edited but i think she ...</td>\n",
              "      <td>oh no i agree that its edited but i think she ...</td>\n",
              "    </tr>\n",
              "    <tr>\n",
              "      <th>40485</th>\n",
              "      <td>What should I drink then ?</td>\n",
              "      <td>what should i drink then ?</td>\n",
              "    </tr>\n",
              "    <tr>\n",
              "      <th>94443</th>\n",
              "      <td>i hardly feel they have any wow factor at all ...</td>\n",
              "      <td>i hardly feel they have any wow factor at all ...</td>\n",
              "    </tr>\n",
              "    <tr>\n",
              "      <th>62985</th>\n",
              "      <td>That's unfair , Mom .</td>\n",
              "      <td>that is unfair mom</td>\n",
              "    </tr>\n",
              "  </tbody>\n",
              "</table>\n",
              "</div>"
            ],
            "text/plain": [
              "                                                    text                                         Clean_text\n",
              "38139    Just yesterday . I'm still getting used to it .       just yesterday i am still getting used to it\n",
              "25401  oh no i agree that its edited but i think she ...  oh no i agree that its edited but i think she ...\n",
              "40485                         What should I drink then ?                         what should i drink then ?\n",
              "94443  i hardly feel they have any wow factor at all ...  i hardly feel they have any wow factor at all ...\n",
              "62985                              That's unfair , Mom .                                 that is unfair mom"
            ]
          },
          "metadata": {
            "tags": []
          }
        }
      ]
    },
    {
      "cell_type": "markdown",
      "metadata": {
        "id": "yHTh1kSTHOQ7"
      },
      "source": [
        "#2 - Modeling : BERT (Bidirectional Encoder Representations from Transformers)"
      ]
    },
    {
      "cell_type": "markdown",
      "metadata": {
        "id": "JwNGgNJ8Gx_X"
      },
      "source": [
        "Now we can go ahead and start defining our BERT-based model."
      ]
    },
    {
      "cell_type": "markdown",
      "metadata": {
        "id": "hjvKpAysH1a3"
      },
      "source": [
        "##2.1 - Configuration of the base model"
      ]
    },
    {
      "cell_type": "markdown",
      "metadata": {
        "id": "W-8Fdf8PHC8d"
      },
      "source": [
        "First of all, let's define a `max_length` variable. This variable sets a fixed length of sequences to be fed to our model. Therefore, sequences will be either truncated if larger than this value, or completed using padding if smaller. To avoid truncating, we fix this value according to the largest sample of our data."
      ]
    },
    {
      "cell_type": "code",
      "metadata": {
        "colab": {
          "base_uri": "https://localhost:8080/"
        },
        "id": "-tZP7OXaxwDE",
        "outputId": "d42ea0bc-6b3f-438c-db47-6d063318930a"
      },
      "source": [
        "# Computing max length of samples\n",
        "full_text = pd.concat([train_GE['Clean_text'], val_GE['Clean_text'], test_GE['Clean_text']])\n",
        "max_length = full_text.apply(lambda x: len(x.split())).max()\n",
        "max_length"
      ],
      "execution_count": 11,
      "outputs": [
        {
          "output_type": "execute_result",
          "data": {
            "text/plain": [
              "229"
            ]
          },
          "metadata": {
            "tags": []
          },
          "execution_count": 11
        }
      ]
    },
    {
      "cell_type": "markdown",
      "metadata": {
        "id": "sdTKxbwTH8SF"
      },
      "source": [
        "We are going to use BERT's base model which contains almost 110 M trainable parameters. \n",
        "\n",
        "Also, in order to match the tokenization and vocabulary used during the training, we are going to use a BERT tokenizer."
      ]
    },
    {
      "cell_type": "code",
      "metadata": {
        "colab": {
          "base_uri": "https://localhost:8080/",
          "height": 371,
          "referenced_widgets": [
            "cb15e1b7606f4acd8349eb03b4dbd4c9",
            "92eda3c80fda4b18b508cf4472d78310",
            "a7ea9fb2e1d14122866c80f4d49935f0",
            "d6a47276a4b042aca7f8b543869c287c",
            "d41b9f8135854874ba4a98438404259c",
            "555d823c18fb44ad9b7560686123eb90",
            "95cecff8354447c3958219958bfa3354",
            "31167902056d46a183e4e7cf83792df6",
            "f267ce640953460f9700c3d4ec125cf8",
            "768b5db83f614768bb0359f79c4b124b",
            "258fbbddb0dc454da9ec3dd0cdf13871",
            "7a7c498899b343bbba3318a246aac0fb",
            "e87e9fa5d1974068bdd375e90a3682e3",
            "87573ba3a5b84778a92fb77f509e3c55",
            "3ce914a5ca35451994fb4820fb5b876c",
            "1c82921ee0354ae0a8a1fbe2a89f975a",
            "1b2e991babf147d2a2e326b0b8f4fbd0",
            "0a9b232bdf8b4a56b55d17e4a577cf88",
            "3dc1f6e84f4b4f85958fe83141bcb3c6",
            "8106c95b1e4e4bbcb3cc79c2d47e04b4",
            "5dfc6933c34c44c6a23e7d07b6629b1e",
            "77578eaead6d4055afbfcbcbcd0ae009",
            "c985c8908a714e9f988cca18cf1fb72c",
            "3506205f49ed4130883f990205ff9655",
            "1a404aba41544aed975d1ee04c0585f0",
            "80eebe3571674b0481be2af0eebf1175",
            "0a4be4f9161542ecb3c47dbe4cad6a97",
            "0e0a291bc4ef4343bc6050dd7dba6a68",
            "185aabdf21374b28b853ab9b022c486e",
            "de13184003c5486c998a6d226a8c398e",
            "495162479aa44cde811b83fc00caf354",
            "a28ac8954bac4358abff1c65f71a33d4",
            "a5143aeff8904b48b7c26d4b81fba37d",
            "2e9b1bd90cd64fd6948326525ccd6262",
            "26674e9e140a441e816ab1c3e7e9267d",
            "fdd418536d6e4d3f9dcf330f04fe94a1",
            "7058f919d8034f86ab202b30595989d8",
            "f0946238b47745fabf7ae08f92954198",
            "3a7db7c8440d4b4eb476e219ddae7925",
            "8e8168a8b0f7489b9f142faabbd633a6"
          ]
        },
        "id": "867vqvnTmI_F",
        "outputId": "0392dd19-db9b-4f25-cb79-d9a925bef73c"
      },
      "source": [
        "# Importing BERT pre-trained model and tokenizer\n",
        "model_name = 'bert-base-uncased'\n",
        "config = BertConfig.from_pretrained(model_name, output_hidden_states=False)\n",
        "tokenizer = BertTokenizerFast.from_pretrained(pretrained_model_name_or_path = model_name, config = config)\n",
        "transformer_model = TFBertModel.from_pretrained(model_name, config = config)"
      ],
      "execution_count": 12,
      "outputs": [
        {
          "output_type": "display_data",
          "data": {
            "application/vnd.jupyter.widget-view+json": {
              "model_id": "cb15e1b7606f4acd8349eb03b4dbd4c9",
              "version_minor": 0,
              "version_major": 2
            },
            "text/plain": [
              "HBox(children=(FloatProgress(value=0.0, description='Downloading', max=570.0, style=ProgressStyle(description_…"
            ]
          },
          "metadata": {
            "tags": []
          }
        },
        {
          "output_type": "stream",
          "text": [
            "\n"
          ],
          "name": "stdout"
        },
        {
          "output_type": "display_data",
          "data": {
            "application/vnd.jupyter.widget-view+json": {
              "model_id": "f267ce640953460f9700c3d4ec125cf8",
              "version_minor": 0,
              "version_major": 2
            },
            "text/plain": [
              "HBox(children=(FloatProgress(value=0.0, description='Downloading', max=231508.0, style=ProgressStyle(descripti…"
            ]
          },
          "metadata": {
            "tags": []
          }
        },
        {
          "output_type": "stream",
          "text": [
            "\n"
          ],
          "name": "stdout"
        },
        {
          "output_type": "display_data",
          "data": {
            "application/vnd.jupyter.widget-view+json": {
              "model_id": "1b2e991babf147d2a2e326b0b8f4fbd0",
              "version_minor": 0,
              "version_major": 2
            },
            "text/plain": [
              "HBox(children=(FloatProgress(value=0.0, description='Downloading', max=466062.0, style=ProgressStyle(descripti…"
            ]
          },
          "metadata": {
            "tags": []
          }
        },
        {
          "output_type": "stream",
          "text": [
            "\n"
          ],
          "name": "stdout"
        },
        {
          "output_type": "display_data",
          "data": {
            "application/vnd.jupyter.widget-view+json": {
              "model_id": "1a404aba41544aed975d1ee04c0585f0",
              "version_minor": 0,
              "version_major": 2
            },
            "text/plain": [
              "HBox(children=(FloatProgress(value=0.0, description='Downloading', max=28.0, style=ProgressStyle(description_w…"
            ]
          },
          "metadata": {
            "tags": []
          }
        },
        {
          "output_type": "stream",
          "text": [
            "\n"
          ],
          "name": "stdout"
        },
        {
          "output_type": "display_data",
          "data": {
            "application/vnd.jupyter.widget-view+json": {
              "model_id": "a5143aeff8904b48b7c26d4b81fba37d",
              "version_minor": 0,
              "version_major": 2
            },
            "text/plain": [
              "HBox(children=(FloatProgress(value=0.0, description='Downloading', max=536063208.0, style=ProgressStyle(descri…"
            ]
          },
          "metadata": {
            "tags": []
          }
        },
        {
          "output_type": "stream",
          "text": [
            "\n"
          ],
          "name": "stdout"
        },
        {
          "output_type": "stream",
          "text": [
            "Some layers from the model checkpoint at bert-base-uncased were not used when initializing TFBertModel: ['mlm___cls', 'nsp___cls']\n",
            "- This IS expected if you are initializing TFBertModel from the checkpoint of a model trained on another task or with another architecture (e.g. initializing a BertForSequenceClassification model from a BertForPreTraining model).\n",
            "- This IS NOT expected if you are initializing TFBertModel from the checkpoint of a model that you expect to be exactly identical (initializing a BertForSequenceClassification model from a BertForSequenceClassification model).\n",
            "All the layers of TFBertModel were initialized from the model checkpoint at bert-base-uncased.\n",
            "If your task is similar to the task the model of the checkpoint was trained on, you can already use TFBertModel for predictions without further training.\n"
          ],
          "name": "stderr"
        }
      ]
    },
    {
      "cell_type": "markdown",
      "metadata": {
        "id": "5OHqPiqVIhB9"
      },
      "source": [
        "## 2.2 - Definition of the model architecture"
      ]
    },
    {
      "cell_type": "markdown",
      "metadata": {
        "id": "bsNfi4DxJdtC"
      },
      "source": [
        "Now that everything is in place, we can create a model based on BERT's main layer, and replace the top layers to reach our main objective (multi-label classification accross 28 possible emotions)."
      ]
    },
    {
      "cell_type": "markdown",
      "metadata": {
        "id": "w1eM3XtfKFvm"
      },
      "source": [
        "Our model takes three inputs that result from tokenization:\n",
        "\n",
        "*   `input_ids`: indices of input sequence tokens in the vocabulary\n",
        "*   `token_ids`: Segment token indices to indicate first and second portions of the inputs.   0 for sentence A and 1 for sentence B\n",
        "*   `attention mask`: Mask to avoid performing attention on padding token indices.  0 for masked and 1 for not masked\n",
        "\n"
      ]
    },
    {
      "cell_type": "code",
      "metadata": {
        "id": "Gqxw9LYjm58O"
      },
      "source": [
        "# function for creating BERT based model\n",
        "def create_model(nb_labels):\n",
        "\n",
        "  # Load the MainLayer\n",
        "  bert = transformer_model.layers[0]\n",
        "\n",
        "  # Build the model inputs\n",
        "  input_ids = Input(shape=(max_length,), name='input_ids', dtype='int32')\n",
        "  attention_mask = Input(shape=(max_length,), name='attention_mask', dtype='int32')\n",
        "  token_ids = Input(shape=(max_length,), name='token_ids', dtype='int32')\n",
        "  inputs = {'input_ids': input_ids, 'attention_mask': attention_mask, 'token_ids': token_ids}\n",
        "\n",
        "  # Load the Transformers BERT model as a layer in a Keras model\n",
        "  bert_model = bert(inputs)[1]\n",
        "  dropout = Dropout(config.hidden_dropout_prob, name='pooled_output')\n",
        "  pooled_output = dropout(bert_model, training=False)\n",
        "\n",
        "  # Then build the model output\n",
        "  emotion = Dense(units=nb_labels, activation=\"sigmoid\", kernel_initializer=TruncatedNormal(stddev=config.initializer_range), name='emotion')(pooled_output)\n",
        "  outputs = emotion\n",
        "\n",
        "  # And combine it all in a model object\n",
        "  model = Model(inputs=inputs, outputs=outputs, name='BERT_MultiLabel')\n",
        "\n",
        "  return model"
      ],
      "execution_count": 13,
      "outputs": []
    },
    {
      "cell_type": "markdown",
      "metadata": {
        "id": "cSJJ5d6VNNvh"
      },
      "source": [
        "We use here a `sigmoid` activation function in the last dense layer that is better suited than a `softmax` activation function. In fact, `softmax` shrinks output probabilities for each label so that the sum of probabilities is 1. In our case, each label (emotion) can independently have a probability between 0 and 1, and `sigmoid` allows that."
      ]
    },
    {
      "cell_type": "markdown",
      "metadata": {
        "id": "IAA-SpCMOFpf"
      },
      "source": [
        "We can now create our model using 28 labels and visualize a summary."
      ]
    },
    {
      "cell_type": "code",
      "metadata": {
        "colab": {
          "base_uri": "https://localhost:8080/"
        },
        "id": "rGW1AxI0nIxK",
        "outputId": "26660b37-f075-4437-91e5-2dd6f1fe46d9"
      },
      "source": [
        "# Creating a model instance\n",
        "model = create_model(7)\n",
        "\n",
        "# Take a look at the model\n",
        "model.summary()"
      ],
      "execution_count": 14,
      "outputs": [
        {
          "output_type": "stream",
          "text": [
            "WARNING:tensorflow:From /usr/local/lib/python3.7/dist-packages/tensorflow/python/ops/array_ops.py:5049: calling gather (from tensorflow.python.ops.array_ops) with validate_indices is deprecated and will be removed in a future version.\n",
            "Instructions for updating:\n",
            "The `validate_indices` argument has no effect. Indices are always validated on CPU and never validated on GPU.\n",
            "Model: \"BERT_MultiLabel\"\n",
            "__________________________________________________________________________________________________\n",
            "Layer (type)                    Output Shape         Param #     Connected to                     \n",
            "==================================================================================================\n",
            "attention_mask (InputLayer)     [(None, 229)]        0                                            \n",
            "__________________________________________________________________________________________________\n",
            "input_ids (InputLayer)          [(None, 229)]        0                                            \n",
            "__________________________________________________________________________________________________\n",
            "token_ids (InputLayer)          [(None, 229)]        0                                            \n",
            "__________________________________________________________________________________________________\n",
            "bert (TFBertMainLayer)          TFBaseModelOutputWit 109482240   attention_mask[0][0]             \n",
            "                                                                 input_ids[0][0]                  \n",
            "                                                                 token_ids[0][0]                  \n",
            "__________________________________________________________________________________________________\n",
            "pooled_output (Dropout)         (None, 768)          0           bert[0][1]                       \n",
            "__________________________________________________________________________________________________\n",
            "emotion (Dense)                 (None, 7)            5383        pooled_output[0][0]              \n",
            "==================================================================================================\n",
            "Total params: 109,487,623\n",
            "Trainable params: 109,487,623\n",
            "Non-trainable params: 0\n",
            "__________________________________________________________________________________________________\n"
          ],
          "name": "stdout"
        }
      ]
    },
    {
      "cell_type": "markdown",
      "metadata": {
        "id": "PNVRanuLI_8j"
      },
      "source": [
        "##2.3 - Data preprocessing and model training"
      ]
    },
    {
      "cell_type": "markdown",
      "metadata": {
        "id": "PAIwoQYvJKQb"
      },
      "source": [
        "###2.3.1 - Tokenizing data"
      ]
    },
    {
      "cell_type": "markdown",
      "metadata": {
        "id": "KbfABovvO8f6"
      },
      "source": [
        "Let's go ahead and process our data. We will first separate texts from labels in the train, validation and test datasets, and then tokenize the texts using the BERT tokenizer."
      ]
    },
    {
      "cell_type": "code",
      "metadata": {
        "id": "XAopOFF1nzUS"
      },
      "source": [
        "# Creating train, validation and test variables\n",
        "X_train = train_GE['Clean_text']\n",
        "y_train = train_GE.loc[:, GE_taxonomy].values.astype(float)\n",
        "\n",
        "X_val = val_GE['Clean_text']\n",
        "y_val = val_GE.loc[:, GE_taxonomy].values.astype(float)\n",
        "\n",
        "X_test = test_GE['Clean_text']\n",
        "y_test = test_GE.loc[:, GE_taxonomy].values.astype(float)\n",
        "\n",
        "# Tokenizing train data\n",
        "train_token = tokenizer(\n",
        "    text = X_train.to_list(),\n",
        "    add_special_tokens = True,\n",
        "    max_length = max_length,\n",
        "    truncation = True,\n",
        "    padding = 'max_length', \n",
        "    return_tensors = 'tf',\n",
        "    return_token_type_ids = True,\n",
        "    return_attention_mask = True,\n",
        "    verbose = True)\n",
        "\n",
        "# Tokenizing valisation data\n",
        "val_token = tokenizer(\n",
        "    text = X_val.to_list(),\n",
        "    add_special_tokens = True,\n",
        "    max_length = max_length,\n",
        "    truncation = True,\n",
        "    padding = 'max_length', \n",
        "    return_tensors = 'tf',\n",
        "    return_token_type_ids = True,\n",
        "    return_attention_mask = True,\n",
        "    verbose = True)\n",
        "\n",
        "# Tokenizing test data\n",
        "test_token = tokenizer(\n",
        "    text = X_test.to_list(),\n",
        "    add_special_tokens = True,\n",
        "    max_length = max_length,\n",
        "    truncation = True,\n",
        "    padding = 'max_length', \n",
        "    return_tensors = 'tf',\n",
        "    return_token_type_ids = True,\n",
        "    return_attention_mask = True,\n",
        "    verbose = True)"
      ],
      "execution_count": 15,
      "outputs": []
    },
    {
      "cell_type": "code",
      "metadata": {
        "id": "HMhCqsYipbys"
      },
      "source": [
        "# Creating BERT compatible inputs with Input Ids, attention masks and token Ids \n",
        "train = {'input_ids': train_token['input_ids'], 'attention_mask': train_token['attention_mask'],'token_ids': train_token['token_type_ids']}\n",
        "val = {'input_ids': val_token['input_ids'], 'attention_mask': val_token['attention_mask'],'token_ids': val_token['token_type_ids']}\n",
        "test = {'input_ids': test_token['input_ids'], 'attention_mask': test_token['attention_mask'],'token_ids': test_token['token_type_ids']}"
      ],
      "execution_count": 16,
      "outputs": []
    },
    {
      "cell_type": "markdown",
      "metadata": {
        "id": "Ex7HpdObPjHk"
      },
      "source": [
        "During the training phase, we our going to use batches of 16 samples. After each epoch, data will be shuffled. Let's create TensorFlow tensors accordingly."
      ]
    },
    {
      "cell_type": "code",
      "metadata": {
        "id": "31_D_Novp1gd"
      },
      "source": [
        "# Creating TF tensors\n",
        "train_tensor = tf.data.Dataset.from_tensor_slices((train, y_train)).shuffle(len(train)).batch(16)\n",
        "val_tensor = tf.data.Dataset.from_tensor_slices((val, y_val)).shuffle(len(val)).batch(16)\n",
        "test_tensor = tf.data.Dataset.from_tensor_slices((test, y_test)).shuffle(len(test)).batch(16)"
      ],
      "execution_count": 17,
      "outputs": []
    },
    {
      "cell_type": "markdown",
      "metadata": {
        "id": "_onjkMzaJfEZ"
      },
      "source": [
        "### 2.3.2 - Class weights for multi-label and custom loss function"
      ]
    },
    {
      "cell_type": "markdown",
      "metadata": {
        "id": "M5RVU6ArQyTa"
      },
      "source": [
        "Training requires to monitor the loss function and eventually some other metrics to see how the model behaves throughout the epochs.\n",
        "\n",
        "Therefore, we need to define a weighted loss function that takes into account  class weights in our multi-label case.\n",
        "\n",
        "First, we need to compute class weights."
      ]
    },
    {
      "cell_type": "code",
      "metadata": {
        "id": "MswUN2pOxOor"
      },
      "source": [
        "# Function for calculating multilabel class weights\n",
        "def calculating_class_weights(y_true):\n",
        "    number_dim = np.shape(y_true)[1]\n",
        "    weights = np.empty([number_dim, 2])\n",
        "    for i in range(number_dim):\n",
        "        weights[i] = compute_class_weight('balanced', [0.,1.], y_true[:, i])\n",
        "    return weights\n",
        "\n",
        "class_weights = calculating_class_weights(y_train)"
      ],
      "execution_count": 18,
      "outputs": []
    },
    {
      "cell_type": "markdown",
      "metadata": {
        "id": "1dXWrQ2rSyTz"
      },
      "source": [
        "Then, we can define a custom crossentropy function in which we multiply the weights."
      ]
    },
    {
      "cell_type": "code",
      "metadata": {
        "id": "XOkmlU6f1K0z"
      },
      "source": [
        "# Custom loss function for multilabel\n",
        "def get_weighted_loss(weights):\n",
        "    def weighted_loss(y_true, y_pred):\n",
        "        return K.mean((weights[:,0]**(1-y_true))*(weights[:,1]**(y_true))*K.binary_crossentropy(y_true, y_pred), axis=-1)\n",
        "    return weighted_loss"
      ],
      "execution_count": 19,
      "outputs": []
    },
    {
      "cell_type": "markdown",
      "metadata": {
        "id": "uLp0d2ITJ3Eq"
      },
      "source": [
        "###2.3.3 - Model training"
      ]
    },
    {
      "cell_type": "markdown",
      "metadata": {
        "id": "ytcJQCODTyl4"
      },
      "source": [
        "Everything is ready, we can now start training our model.\n",
        "\n",
        "We chose not to exceed 4 epochs to train our model as it will most likely start to overfit our data."
      ]
    },
    {
      "cell_type": "code",
      "metadata": {
        "id": "citzyDt1qOVq"
      },
      "source": [
        "# Set an optimizer\n",
        "optimizer = Adam(\n",
        "    learning_rate=5.e-05,\n",
        "    )\n",
        "\n",
        "# Set loss\n",
        "loss = get_weighted_loss(class_weights)\n",
        "\n",
        "# Compile the model\n",
        "model.compile(\n",
        "    optimizer = optimizer,\n",
        "    loss = loss)"
      ],
      "execution_count": 20,
      "outputs": []
    },
    {
      "cell_type": "code",
      "metadata": {
        "id": "woTH1Zo-yczr"
      },
      "source": [
        "# train the model\n",
        "history = model.fit(train_tensor, \n",
        "                    epochs=1, \n",
        "                    validation_data=val_tensor,\n",
        "                    )"
      ],
      "execution_count": null,
      "outputs": []
    },
    {
      "cell_type": "markdown",
      "metadata": {
        "id": "4znNuCgxRUuv"
      },
      "source": [
        "## 2.4 - Model evaluation"
      ]
    },
    {
      "cell_type": "markdown",
      "metadata": {
        "id": "rw2Ovil8cw1M"
      },
      "source": [
        "### 2.4.1 - Evaluation on GoEmotions taxonomy"
      ]
    },
    {
      "cell_type": "markdown",
      "metadata": {
        "id": "txhLFoByV53b"
      },
      "source": [
        "Let's generate predictions on test data."
      ]
    },
    {
      "cell_type": "code",
      "metadata": {
        "id": "jrVVKNF9VjAN"
      },
      "source": [
        "# Making probability predictions on test data\n",
        "y_pred_proba = model.predict(test)"
      ],
      "execution_count": null,
      "outputs": []
    },
    {
      "cell_type": "markdown",
      "metadata": {
        "id": "lEXHXyhPWCCr"
      },
      "source": [
        "When making predictions, we only generate probabilities associated with each label. To predict actual labels, we need to add an additional step that transforms these probabilities into labels given a certain threshold.\n",
        "\n",
        "We define a function to do so with a default threshold set to 0.8."
      ]
    },
    {
      "cell_type": "code",
      "metadata": {
        "id": "QdlRK7nt2Jr8"
      },
      "source": [
        "# from probabilities to labels using a given threshold\n",
        "def proba_to_labels(y_pred_proba, threshold=0.8):\n",
        "    \n",
        "    y_pred_labels = np.zeros_like(y_pred_proba)\n",
        "    \n",
        "    for i in range(y_pred_proba.shape[0]):\n",
        "        for j in range(y_pred_proba.shape[1]):\n",
        "            if y_pred_proba[i][j] > threshold:\n",
        "                y_pred_labels[i][j] = 1\n",
        "            else:\n",
        "                y_pred_labels[i][j] = 0\n",
        "                \n",
        "    return y_pred_labels"
      ],
      "execution_count": null,
      "outputs": []
    },
    {
      "cell_type": "code",
      "metadata": {
        "id": "wRzQNJ8bXWP9"
      },
      "source": [
        "# Generate labels\n",
        "y_pred_labels = proba_to_labels(y_pred_proba)"
      ],
      "execution_count": null,
      "outputs": []
    },
    {
      "cell_type": "markdown",
      "metadata": {
        "id": "07pAgsrBWr2g"
      },
      "source": [
        "Let's evaluate these predictions using the evaluation function we defined in the previous notebook."
      ]
    },
    {
      "cell_type": "code",
      "metadata": {
        "id": "KwgSu5mdW_S9"
      },
      "source": [
        "# Model evaluation function \n",
        "def model_eval(y_true, y_pred_labels, emotions):\n",
        "    \n",
        "    # Defining variables\n",
        "    precision = []\n",
        "    recall = []\n",
        "    f1 = []\n",
        "    \n",
        "    # Per emotion evaluation      \n",
        "    idx2emotion = {i: e for i, e in enumerate(emotions)}\n",
        "    \n",
        "    for i in range(len(emotions)):\n",
        "   \n",
        "        # Computing precision, recall and f1-score\n",
        "        p, r, f1_score, _ = precision_recall_fscore_support(y_true[:, i], y_pred_labels[:, i], average=\"binary\")\n",
        "        \n",
        "        # Append results in lists\n",
        "        precision.append(round(p, 2))\n",
        "        recall.append(round(r, 2))\n",
        "        f1.append(round(f1_score, 2))\n",
        "    \n",
        "    # Macro evaluation\n",
        "    macro_p, macro_r, macro_f1_score, _ = precision_recall_fscore_support(y_true, y_pred_labels, average=\"macro\")\n",
        "    \n",
        "    # Append results in lists\n",
        "    precision.append(round(macro_p, 2))\n",
        "    recall.append(round(macro_r, 2))\n",
        "    f1.append(round(macro_f1_score, 2))\n",
        "    \n",
        "    # Converting results to a dataframe\n",
        "    df_results = pd.DataFrame({\"Precision\":precision, \"Recall\":recall, 'F1':f1})\n",
        "    df_results.index = emotions+['MACRO-AVERAGE']\n",
        "    \n",
        "    return df_results"
      ],
      "execution_count": null,
      "outputs": []
    },
    {
      "cell_type": "code",
      "metadata": {
        "colab": {
          "base_uri": "https://localhost:8080/",
          "height": 297
        },
        "id": "rW_rNrE_cN56",
        "outputId": "5fee74a9-f402-4889-a0bc-0679e98c1b3a"
      },
      "source": [
        "# Model evaluation\n",
        "model_eval(y_test, y_pred_labels, GE_taxonomy)"
      ],
      "execution_count": null,
      "outputs": [
        {
          "output_type": "execute_result",
          "data": {
            "text/html": [
              "<div>\n",
              "<style scoped>\n",
              "    .dataframe tbody tr th:only-of-type {\n",
              "        vertical-align: middle;\n",
              "    }\n",
              "\n",
              "    .dataframe tbody tr th {\n",
              "        vertical-align: top;\n",
              "    }\n",
              "\n",
              "    .dataframe thead th {\n",
              "        text-align: right;\n",
              "    }\n",
              "</style>\n",
              "<table border=\"1\" class=\"dataframe\">\n",
              "  <thead>\n",
              "    <tr style=\"text-align: right;\">\n",
              "      <th></th>\n",
              "      <th>Precision</th>\n",
              "      <th>Recall</th>\n",
              "      <th>F1</th>\n",
              "    </tr>\n",
              "  </thead>\n",
              "  <tbody>\n",
              "    <tr>\n",
              "      <th>anger</th>\n",
              "      <td>0.48</td>\n",
              "      <td>0.56</td>\n",
              "      <td>0.52</td>\n",
              "    </tr>\n",
              "    <tr>\n",
              "      <th>disgust</th>\n",
              "      <td>0.15</td>\n",
              "      <td>0.88</td>\n",
              "      <td>0.25</td>\n",
              "    </tr>\n",
              "    <tr>\n",
              "      <th>fear</th>\n",
              "      <td>0.28</td>\n",
              "      <td>0.81</td>\n",
              "      <td>0.42</td>\n",
              "    </tr>\n",
              "    <tr>\n",
              "      <th>joy</th>\n",
              "      <td>0.91</td>\n",
              "      <td>0.65</td>\n",
              "      <td>0.76</td>\n",
              "    </tr>\n",
              "    <tr>\n",
              "      <th>sadness</th>\n",
              "      <td>0.45</td>\n",
              "      <td>0.65</td>\n",
              "      <td>0.53</td>\n",
              "    </tr>\n",
              "    <tr>\n",
              "      <th>surprise</th>\n",
              "      <td>0.53</td>\n",
              "      <td>0.71</td>\n",
              "      <td>0.61</td>\n",
              "    </tr>\n",
              "    <tr>\n",
              "      <th>neutral</th>\n",
              "      <td>0.82</td>\n",
              "      <td>0.23</td>\n",
              "      <td>0.35</td>\n",
              "    </tr>\n",
              "    <tr>\n",
              "      <th>MACRO-AVERAGE</th>\n",
              "      <td>0.52</td>\n",
              "      <td>0.64</td>\n",
              "      <td>0.49</td>\n",
              "    </tr>\n",
              "  </tbody>\n",
              "</table>\n",
              "</div>"
            ],
            "text/plain": [
              "               Precision  Recall    F1\n",
              "anger               0.48    0.56  0.52\n",
              "disgust             0.15    0.88  0.25\n",
              "fear                0.28    0.81  0.42\n",
              "joy                 0.91    0.65  0.76\n",
              "sadness             0.45    0.65  0.53\n",
              "surprise            0.53    0.71  0.61\n",
              "neutral             0.82    0.23  0.35\n",
              "MACRO-AVERAGE       0.52    0.64  0.49"
            ]
          },
          "metadata": {
            "tags": []
          },
          "execution_count": 55
        }
      ]
    },
    {
      "cell_type": "markdown",
      "metadata": {
        "id": "kHKrdAGgzzxL"
      },
      "source": [
        "As we can see, this model outperformed the baseline model. But we can make some improvements ..."
      ]
    },
    {
      "cell_type": "markdown",
      "metadata": {
        "id": "QiEfmN4zYWzp"
      },
      "source": [
        "### 2.4.2 - Threshold optimization"
      ]
    },
    {
      "cell_type": "markdown",
      "metadata": {
        "id": "jJBpGoXFYmqX"
      },
      "source": [
        "In the initial evaluation, we set an aribitrary threshold. However, we can also choose a threshold that maximizes a certain metric. \n",
        "\n",
        "We define a function that tests a certain number of possible thresholds, and returns the best threshold together with the best predicted labels and best macro f1-score."
      ]
    },
    {
      "cell_type": "code",
      "metadata": {
        "id": "mVoNZ3FsNZ_W"
      },
      "source": [
        "# Function that computes labels from probabilities and optimizes the threshold that maximizes f1-score\n",
        "def proba_to_labels_opt(y_true, y_pred_proba):\n",
        "    \n",
        "    '''\n",
        "    Inputs:\n",
        "        y_true: Ground truth labels\n",
        "        y_pred_proba: predicted probabilities\n",
        "        \n",
        "    Outputs :\n",
        "        best_y_pred_labels: preticted labels associated with best threshold\n",
        "        best_t: best threshold\n",
        "        best_macro_f1: macro f1-score associated with predicted labels\n",
        "    '''\n",
        "    \n",
        "    # range of possible thresholds\n",
        "    thresholds = np.arange(0.7, 0.99, 0.01)\n",
        "    \n",
        "    # Computing threshold that maximizes macro f1-score \n",
        "    best_y_pred_labels = np.zeros_like(y_pred_proba)\n",
        "    best_t = 0\n",
        "    best_macro_f1 = 0\n",
        "    \n",
        "    # Iterating through possible thresholds\n",
        "    for t in thresholds:\n",
        "        \n",
        "        y_pred_labels = proba_to_labels(y_pred_proba, t)\n",
        "                             \n",
        "        _, _, macro_f1, _ = precision_recall_fscore_support(y_true, y_pred_labels, average=\"macro\")\n",
        "        \n",
        "        if macro_f1 > best_macro_f1:\n",
        "            best_macro_f1 = macro_f1\n",
        "            best_t = t\n",
        "            best_y_pred_labels = y_pred_labels\n",
        "            \n",
        "    return best_y_pred_labels, best_t, best_macro_f1"
      ],
      "execution_count": null,
      "outputs": []
    },
    {
      "cell_type": "markdown",
      "metadata": {
        "id": "R6S8iogIb051"
      },
      "source": [
        "We can now apply this function to our predicted probabilities and compute optimized label predictions."
      ]
    },
    {
      "cell_type": "code",
      "metadata": {
        "colab": {
          "base_uri": "https://localhost:8080/"
        },
        "id": "3LDKmAidZvIi",
        "outputId": "03eb9904-cf23-4cca-f8ff-f943eb6b4b5b"
      },
      "source": [
        "# Compute label predictions and corresponding optimal thresholds \n",
        "y_pred_labels_opt, threshold_opt, macro_f1_opt = proba_to_labels_opt(y_test, y_pred_proba)\n",
        "print(\"The model's threshold is {}\".format(threshold_opt))\n",
        "print(\"The model's best macro-f1 is {}\".format(macro_f1_opt))"
      ],
      "execution_count": null,
      "outputs": [
        {
          "output_type": "stream",
          "text": [
            "/usr/local/lib/python3.7/dist-packages/sklearn/metrics/_classification.py:1272: UndefinedMetricWarning: Precision and F-score are ill-defined and being set to 0.0 in labels with no predicted samples. Use `zero_division` parameter to control this behavior.\n",
            "  _warn_prf(average, modifier, msg_start, len(result))\n"
          ],
          "name": "stderr"
        },
        {
          "output_type": "stream",
          "text": [
            "The model's threshold is 0.74\n",
            "The model's best macro-f1 is 0.49698094464670284\n"
          ],
          "name": "stdout"
        }
      ]
    },
    {
      "cell_type": "code",
      "metadata": {
        "colab": {
          "base_uri": "https://localhost:8080/",
          "height": 297
        },
        "id": "2TM1hZ1JZ31q",
        "outputId": "14121b4d-a5fb-4174-d0f1-060e679878c7"
      },
      "source": [
        "# Model evaluation : Precision, Recall, F-score\n",
        "model_eval(y_test, y_pred_labels_opt, GE_taxonomy)"
      ],
      "execution_count": null,
      "outputs": [
        {
          "output_type": "execute_result",
          "data": {
            "text/html": [
              "<div>\n",
              "<style scoped>\n",
              "    .dataframe tbody tr th:only-of-type {\n",
              "        vertical-align: middle;\n",
              "    }\n",
              "\n",
              "    .dataframe tbody tr th {\n",
              "        vertical-align: top;\n",
              "    }\n",
              "\n",
              "    .dataframe thead th {\n",
              "        text-align: right;\n",
              "    }\n",
              "</style>\n",
              "<table border=\"1\" class=\"dataframe\">\n",
              "  <thead>\n",
              "    <tr style=\"text-align: right;\">\n",
              "      <th></th>\n",
              "      <th>Precision</th>\n",
              "      <th>Recall</th>\n",
              "      <th>F1</th>\n",
              "    </tr>\n",
              "  </thead>\n",
              "  <tbody>\n",
              "    <tr>\n",
              "      <th>anger</th>\n",
              "      <td>0.40</td>\n",
              "      <td>0.65</td>\n",
              "      <td>0.49</td>\n",
              "    </tr>\n",
              "    <tr>\n",
              "      <th>disgust</th>\n",
              "      <td>0.12</td>\n",
              "      <td>0.89</td>\n",
              "      <td>0.22</td>\n",
              "    </tr>\n",
              "    <tr>\n",
              "      <th>fear</th>\n",
              "      <td>0.24</td>\n",
              "      <td>0.85</td>\n",
              "      <td>0.38</td>\n",
              "    </tr>\n",
              "    <tr>\n",
              "      <th>joy</th>\n",
              "      <td>0.90</td>\n",
              "      <td>0.69</td>\n",
              "      <td>0.78</td>\n",
              "    </tr>\n",
              "    <tr>\n",
              "      <th>sadness</th>\n",
              "      <td>0.39</td>\n",
              "      <td>0.75</td>\n",
              "      <td>0.51</td>\n",
              "    </tr>\n",
              "    <tr>\n",
              "      <th>surprise</th>\n",
              "      <td>0.50</td>\n",
              "      <td>0.75</td>\n",
              "      <td>0.60</td>\n",
              "    </tr>\n",
              "    <tr>\n",
              "      <th>neutral</th>\n",
              "      <td>0.78</td>\n",
              "      <td>0.36</td>\n",
              "      <td>0.49</td>\n",
              "    </tr>\n",
              "    <tr>\n",
              "      <th>MACRO-AVERAGE</th>\n",
              "      <td>0.48</td>\n",
              "      <td>0.71</td>\n",
              "      <td>0.50</td>\n",
              "    </tr>\n",
              "  </tbody>\n",
              "</table>\n",
              "</div>"
            ],
            "text/plain": [
              "               Precision  Recall    F1\n",
              "anger               0.40    0.65  0.49\n",
              "disgust             0.12    0.89  0.22\n",
              "fear                0.24    0.85  0.38\n",
              "joy                 0.90    0.69  0.78\n",
              "sadness             0.39    0.75  0.51\n",
              "surprise            0.50    0.75  0.60\n",
              "neutral             0.78    0.36  0.49\n",
              "MACRO-AVERAGE       0.48    0.71  0.50"
            ]
          },
          "metadata": {
            "tags": []
          },
          "execution_count": 58
        }
      ]
    },
    {
      "cell_type": "markdown",
      "metadata": {
        "id": "EMYPEVAK0D89"
      },
      "source": [
        "**Optimizing the threshold** helped us to **slightly improve** the model predictions."
      ]
    },
    {
      "cell_type": "markdown",
      "metadata": {
        "id": "PPhDnnZXSOao"
      },
      "source": [
        "### 2.4.3 - Handling all \"0\" label predictions"
      ]
    },
    {
      "cell_type": "markdown",
      "metadata": {
        "id": "ZI0srl-FcToA"
      },
      "source": [
        "Our threshold is relatively high. Therefore, our model predicted label probabilities for some samples that are all below this threshold. In other words, **our model did not detect any emotion for some samples**."
      ]
    },
    {
      "cell_type": "code",
      "metadata": {
        "colab": {
          "base_uri": "https://localhost:8080/"
        },
        "id": "ouxzyJ-TOpLZ",
        "outputId": "90c9cd68-b74b-4dbd-9df2-a594f8f35666"
      },
      "source": [
        "# Number of predictions with no positive label\n",
        "sum(np.sum(y_pred_labels_opt, axis=1)==0)"
      ],
      "execution_count": null,
      "outputs": [
        {
          "output_type": "execute_result",
          "data": {
            "text/plain": [
              "415"
            ]
          },
          "metadata": {
            "tags": []
          },
          "execution_count": 59
        }
      ]
    },
    {
      "cell_type": "markdown",
      "metadata": {
        "id": "U2QzGjtTco-Z"
      },
      "source": [
        "In this case, we can try two different strategies:"
      ]
    },
    {
      "cell_type": "markdown",
      "metadata": {
        "id": "YoEIzOLdN_bo"
      },
      "source": [
        "#### a) No predictions means class with highest probability"
      ]
    },
    {
      "cell_type": "markdown",
      "metadata": {
        "id": "WC3iEZfNcxPQ"
      },
      "source": [
        "The first possibility is to consider the **label with the highest** probability for these samples, ignoring the threshold."
      ]
    },
    {
      "cell_type": "code",
      "metadata": {
        "colab": {
          "base_uri": "https://localhost:8080/",
          "height": 297
        },
        "id": "5PVi0WsPUf2S",
        "outputId": "8745c4bf-ff01-46d8-991b-2a1e8020ebf5"
      },
      "source": [
        "# Handling empty predictions\n",
        "y_pred_labels_opt_h = np.copy(y_pred_labels_opt)\n",
        "\n",
        "# if no predictions ==> label with highest proba\n",
        "for i, pred in enumerate(y_pred_labels_opt_h):\n",
        "    if pred.sum()==0:\n",
        "        pred[np.argmax(y_pred_labels_opt[i])]=1\n",
        "\n",
        "# Evaluation\n",
        "model_eval(y_test, y_pred_labels_opt_h, GE_taxonomy)"
      ],
      "execution_count": null,
      "outputs": [
        {
          "output_type": "execute_result",
          "data": {
            "text/html": [
              "<div>\n",
              "<style scoped>\n",
              "    .dataframe tbody tr th:only-of-type {\n",
              "        vertical-align: middle;\n",
              "    }\n",
              "\n",
              "    .dataframe tbody tr th {\n",
              "        vertical-align: top;\n",
              "    }\n",
              "\n",
              "    .dataframe thead th {\n",
              "        text-align: right;\n",
              "    }\n",
              "</style>\n",
              "<table border=\"1\" class=\"dataframe\">\n",
              "  <thead>\n",
              "    <tr style=\"text-align: right;\">\n",
              "      <th></th>\n",
              "      <th>Precision</th>\n",
              "      <th>Recall</th>\n",
              "      <th>F1</th>\n",
              "    </tr>\n",
              "  </thead>\n",
              "  <tbody>\n",
              "    <tr>\n",
              "      <th>anger</th>\n",
              "      <td>0.28</td>\n",
              "      <td>0.68</td>\n",
              "      <td>0.39</td>\n",
              "    </tr>\n",
              "    <tr>\n",
              "      <th>disgust</th>\n",
              "      <td>0.12</td>\n",
              "      <td>0.89</td>\n",
              "      <td>0.22</td>\n",
              "    </tr>\n",
              "    <tr>\n",
              "      <th>fear</th>\n",
              "      <td>0.24</td>\n",
              "      <td>0.85</td>\n",
              "      <td>0.38</td>\n",
              "    </tr>\n",
              "    <tr>\n",
              "      <th>joy</th>\n",
              "      <td>0.90</td>\n",
              "      <td>0.69</td>\n",
              "      <td>0.78</td>\n",
              "    </tr>\n",
              "    <tr>\n",
              "      <th>sadness</th>\n",
              "      <td>0.39</td>\n",
              "      <td>0.75</td>\n",
              "      <td>0.51</td>\n",
              "    </tr>\n",
              "    <tr>\n",
              "      <th>surprise</th>\n",
              "      <td>0.50</td>\n",
              "      <td>0.75</td>\n",
              "      <td>0.60</td>\n",
              "    </tr>\n",
              "    <tr>\n",
              "      <th>neutral</th>\n",
              "      <td>0.78</td>\n",
              "      <td>0.36</td>\n",
              "      <td>0.49</td>\n",
              "    </tr>\n",
              "    <tr>\n",
              "      <th>MACRO-AVERAGE</th>\n",
              "      <td>0.46</td>\n",
              "      <td>0.71</td>\n",
              "      <td>0.48</td>\n",
              "    </tr>\n",
              "  </tbody>\n",
              "</table>\n",
              "</div>"
            ],
            "text/plain": [
              "               Precision  Recall    F1\n",
              "anger               0.28    0.68  0.39\n",
              "disgust             0.12    0.89  0.22\n",
              "fear                0.24    0.85  0.38\n",
              "joy                 0.90    0.69  0.78\n",
              "sadness             0.39    0.75  0.51\n",
              "surprise            0.50    0.75  0.60\n",
              "neutral             0.78    0.36  0.49\n",
              "MACRO-AVERAGE       0.46    0.71  0.48"
            ]
          },
          "metadata": {
            "tags": []
          },
          "execution_count": 60
        }
      ]
    },
    {
      "cell_type": "markdown",
      "metadata": {
        "id": "gj27hpsK08fb"
      },
      "source": [
        "This strategy did not pay off as we decreased the macro f1-score."
      ]
    },
    {
      "cell_type": "markdown",
      "metadata": {
        "id": "jiQqOd3QOGBA"
      },
      "source": [
        "#### b) No predictions means \"Neutral\" emotion"
      ]
    },
    {
      "cell_type": "markdown",
      "metadata": {
        "id": "-0PST16pdAIR"
      },
      "source": [
        "The second possibility is to **assign the 'Neutral'** emotion given it is the most represented one. This strategy looks more natural as if we can't detect an emotion, it means it is Neutral."
      ]
    },
    {
      "cell_type": "code",
      "metadata": {
        "colab": {
          "base_uri": "https://localhost:8080/",
          "height": 297
        },
        "id": "OO9E37UsPEte",
        "outputId": "8efd0c13-2450-403f-99fd-a0cdd463ded0"
      },
      "source": [
        "# Handling empty predictions\n",
        "y_pred_labels_opt_n = np.copy(y_pred_labels_opt)\n",
        "\n",
        "# if no predictions ==> neutral\n",
        "for pred in y_pred_labels_opt_n:\n",
        "    if pred.sum()==0:\n",
        "        pred[-1]=1\n",
        "\n",
        "# Evaluation\n",
        "model_eval(y_test, y_pred_labels_opt_n, GE_taxonomy)"
      ],
      "execution_count": null,
      "outputs": [
        {
          "output_type": "execute_result",
          "data": {
            "text/html": [
              "<div>\n",
              "<style scoped>\n",
              "    .dataframe tbody tr th:only-of-type {\n",
              "        vertical-align: middle;\n",
              "    }\n",
              "\n",
              "    .dataframe tbody tr th {\n",
              "        vertical-align: top;\n",
              "    }\n",
              "\n",
              "    .dataframe thead th {\n",
              "        text-align: right;\n",
              "    }\n",
              "</style>\n",
              "<table border=\"1\" class=\"dataframe\">\n",
              "  <thead>\n",
              "    <tr style=\"text-align: right;\">\n",
              "      <th></th>\n",
              "      <th>Precision</th>\n",
              "      <th>Recall</th>\n",
              "      <th>F1</th>\n",
              "    </tr>\n",
              "  </thead>\n",
              "  <tbody>\n",
              "    <tr>\n",
              "      <th>anger</th>\n",
              "      <td>0.40</td>\n",
              "      <td>0.65</td>\n",
              "      <td>0.49</td>\n",
              "    </tr>\n",
              "    <tr>\n",
              "      <th>disgust</th>\n",
              "      <td>0.12</td>\n",
              "      <td>0.89</td>\n",
              "      <td>0.22</td>\n",
              "    </tr>\n",
              "    <tr>\n",
              "      <th>fear</th>\n",
              "      <td>0.24</td>\n",
              "      <td>0.85</td>\n",
              "      <td>0.38</td>\n",
              "    </tr>\n",
              "    <tr>\n",
              "      <th>joy</th>\n",
              "      <td>0.90</td>\n",
              "      <td>0.69</td>\n",
              "      <td>0.78</td>\n",
              "    </tr>\n",
              "    <tr>\n",
              "      <th>sadness</th>\n",
              "      <td>0.39</td>\n",
              "      <td>0.75</td>\n",
              "      <td>0.51</td>\n",
              "    </tr>\n",
              "    <tr>\n",
              "      <th>surprise</th>\n",
              "      <td>0.50</td>\n",
              "      <td>0.75</td>\n",
              "      <td>0.60</td>\n",
              "    </tr>\n",
              "    <tr>\n",
              "      <th>neutral</th>\n",
              "      <td>0.69</td>\n",
              "      <td>0.47</td>\n",
              "      <td>0.56</td>\n",
              "    </tr>\n",
              "    <tr>\n",
              "      <th>MACRO-AVERAGE</th>\n",
              "      <td>0.46</td>\n",
              "      <td>0.72</td>\n",
              "      <td>0.51</td>\n",
              "    </tr>\n",
              "  </tbody>\n",
              "</table>\n",
              "</div>"
            ],
            "text/plain": [
              "               Precision  Recall    F1\n",
              "anger               0.40    0.65  0.49\n",
              "disgust             0.12    0.89  0.22\n",
              "fear                0.24    0.85  0.38\n",
              "joy                 0.90    0.69  0.78\n",
              "sadness             0.39    0.75  0.51\n",
              "surprise            0.50    0.75  0.60\n",
              "neutral             0.69    0.47  0.56\n",
              "MACRO-AVERAGE       0.46    0.72  0.51"
            ]
          },
          "metadata": {
            "tags": []
          },
          "execution_count": 61
        }
      ]
    },
    {
      "cell_type": "markdown",
      "metadata": {
        "id": "_XPoQD3H1arH"
      },
      "source": [
        "Using this strategy helped us **slightly improve the macro precision and recall**, but **not enough to make a significant impact on the macro f1-score**."
      ]
    },
    {
      "cell_type": "markdown",
      "metadata": {
        "id": "bAEYceuZT30x"
      },
      "source": [
        "### 2.4.4 - Indirect evaluation on Ekman taxonomy by mapping predictions"
      ]
    },
    {
      "cell_type": "markdown",
      "metadata": {
        "id": "k_pPXWzFeYzc"
      },
      "source": [
        "Until now, we have only evaluated our model on the GoEmotions taxonomy.\n",
        "\n",
        "As a reference, we can try to map the true and predicted emotions to the Ekman taxonomy and see how our model performs.\n",
        "\n",
        "We have already defined the Ekman taxonomy earlier."
      ]
    },
    {
      "cell_type": "markdown",
      "metadata": {
        "id": "LQetXmQPfOa1"
      },
      "source": [
        "Let's define a function that transforms labels from GoEmotions to Ekman taxonomy."
      ]
    },
    {
      "cell_type": "code",
      "metadata": {
        "id": "8KOWIXJUesiy"
      },
      "source": [
        "# Function thats maps predictions on GoEmotions taxonomy to Ekman taxonomy\n",
        "def GE_to_Ekman(GE_labels):\n",
        "    \n",
        "    # Create a dataframe of GoEmotions labels\n",
        "    df_GE = pd.DataFrame(GE_labels, columns=GE_taxonomy)\n",
        "\n",
        "    # Create an empty dataframe of Ekman labels\n",
        "    df_Ekman  = pd.DataFrame(np.zeros((len(GE_labels), len(Ekman_taxonomy))), columns=Ekman_taxonomy)\n",
        "\n",
        "    for i in range(len(df_GE)):\n",
        "\n",
        "        if df_GE.loc[i,['anger', 'annoyance', 'disapproval']].sum() >= 1:\n",
        "            df_Ekman.loc[i,'anger'] = 1\n",
        "\n",
        "        if df_GE.loc[i,'disgust'].sum() >= 1:\n",
        "            df_Ekman.loc[i,'disgust'] = 1\n",
        "\n",
        "        if df_GE.loc[i,['fear', 'nervousness']].sum() >= 1:\n",
        "            df_Ekman.loc[i,'fear'] = 1\n",
        "\n",
        "        if df_GE.loc[i,['joy', 'amusement', 'approval', 'excitement', 'gratitude',\n",
        "                        'love', 'optimism', 'relief', 'pride', 'admiration', 'desire','caring']].sum() >= 1:\n",
        "            df_Ekman.loc[i,'joy'] = 1 \n",
        "\n",
        "        if df_GE.loc[i,'neutral'].sum() >= 1:\n",
        "            df_Ekman.loc[i,'neutral'] = 1\n",
        "\n",
        "        if df_GE.loc[i,['sadness', 'disappointment', 'embarrassment', 'grief', 'remorse']].sum() >= 1:\n",
        "            df_Ekman.loc[i,'sadness'] = 1\n",
        "\n",
        "        if df_GE.loc[i,['surprise', 'realization', 'confusion', 'curiosity']].sum() >= 1:\n",
        "            df_Ekman.loc[i,'surprise'] = 1\n",
        "\n",
        "    return df_Ekman.values"
      ],
      "execution_count": null,
      "outputs": []
    },
    {
      "cell_type": "markdown",
      "metadata": {
        "id": "rkZxJmVzgb4o"
      },
      "source": [
        "We can now apply our function and evaluate the predictions"
      ]
    },
    {
      "cell_type": "code",
      "metadata": {
        "colab": {
          "base_uri": "https://localhost:8080/",
          "height": 297
        },
        "id": "TmecGLKsez0Q",
        "outputId": "4380e5e1-1bc5-4a58-fe83-4ffd196ab75d"
      },
      "source": [
        "# Mapping GoEmotion labels to Ekman labels (true and predictions)\n",
        "y_test_Ekman = GE_to_Ekman(y_test)\n",
        "y_pred_labels_Ekman = GE_to_Ekman(y_pred_labels_opt_n)\n",
        "\n",
        "# Evaluation\n",
        "model_eval(y_test_Ekman, y_pred_labels_Ekman, Ekman_taxonomy)"
      ],
      "execution_count": null,
      "outputs": [
        {
          "output_type": "execute_result",
          "data": {
            "text/html": [
              "<div>\n",
              "<style scoped>\n",
              "    .dataframe tbody tr th:only-of-type {\n",
              "        vertical-align: middle;\n",
              "    }\n",
              "\n",
              "    .dataframe tbody tr th {\n",
              "        vertical-align: top;\n",
              "    }\n",
              "\n",
              "    .dataframe thead th {\n",
              "        text-align: right;\n",
              "    }\n",
              "</style>\n",
              "<table border=\"1\" class=\"dataframe\">\n",
              "  <thead>\n",
              "    <tr style=\"text-align: right;\">\n",
              "      <th></th>\n",
              "      <th>Precision</th>\n",
              "      <th>Recall</th>\n",
              "      <th>F1</th>\n",
              "    </tr>\n",
              "  </thead>\n",
              "  <tbody>\n",
              "    <tr>\n",
              "      <th>anger</th>\n",
              "      <td>0.54</td>\n",
              "      <td>0.47</td>\n",
              "      <td>0.50</td>\n",
              "    </tr>\n",
              "    <tr>\n",
              "      <th>disgust</th>\n",
              "      <td>0.32</td>\n",
              "      <td>0.60</td>\n",
              "      <td>0.42</td>\n",
              "    </tr>\n",
              "    <tr>\n",
              "      <th>fear</th>\n",
              "      <td>0.48</td>\n",
              "      <td>0.79</td>\n",
              "      <td>0.60</td>\n",
              "    </tr>\n",
              "    <tr>\n",
              "      <th>joy</th>\n",
              "      <td>0.78</td>\n",
              "      <td>0.82</td>\n",
              "      <td>0.80</td>\n",
              "    </tr>\n",
              "    <tr>\n",
              "      <th>sadness</th>\n",
              "      <td>0.58</td>\n",
              "      <td>0.56</td>\n",
              "      <td>0.57</td>\n",
              "    </tr>\n",
              "    <tr>\n",
              "      <th>surprise</th>\n",
              "      <td>0.54</td>\n",
              "      <td>0.66</td>\n",
              "      <td>0.59</td>\n",
              "    </tr>\n",
              "    <tr>\n",
              "      <th>neutral</th>\n",
              "      <td>0.65</td>\n",
              "      <td>0.49</td>\n",
              "      <td>0.56</td>\n",
              "    </tr>\n",
              "    <tr>\n",
              "      <th>MACRO-AVERAGE</th>\n",
              "      <td>0.55</td>\n",
              "      <td>0.63</td>\n",
              "      <td>0.58</td>\n",
              "    </tr>\n",
              "  </tbody>\n",
              "</table>\n",
              "</div>"
            ],
            "text/plain": [
              "               Precision  Recall    F1\n",
              "anger               0.54    0.47  0.50\n",
              "disgust             0.32    0.60  0.42\n",
              "fear                0.48    0.79  0.60\n",
              "joy                 0.78    0.82  0.80\n",
              "sadness             0.58    0.56  0.57\n",
              "surprise            0.54    0.66  0.59\n",
              "neutral             0.65    0.49  0.56\n",
              "MACRO-AVERAGE       0.55    0.63  0.58"
            ]
          },
          "metadata": {
            "tags": []
          },
          "execution_count": 30
        }
      ]
    },
    {
      "cell_type": "markdown",
      "metadata": {
        "id": "O_zEgspp13iW"
      },
      "source": [
        "Our model obtained a **reasonable score** on the Ekman taxonomy. However, we expected more when switching from 28 emotions to only 7 emotions.\n"
      ]
    },
    {
      "cell_type": "markdown",
      "metadata": {
        "id": "J_ojzWhTUT2W"
      },
      "source": [
        "## 2.5 - Make predictions"
      ]
    },
    {
      "cell_type": "markdown",
      "metadata": {
        "id": "sJABBqRVtlbk"
      },
      "source": [
        "To make predictions on a new sample, it needs to be processed using all the different precessing steps we used."
      ]
    },
    {
      "cell_type": "code",
      "metadata": {
        "id": "tdTRJR_ZhVKI"
      },
      "source": [
        "# Retrieving initial preprocessings\n",
        "def preprocess_corpus(x):\n",
        "    \n",
        "    # Adding a space between words and punctation\n",
        "    x = re.sub( r'([a-zA-Z\\[\\]])([,;.!?])', r'\\1 \\2', x)\n",
        "    x = re.sub( r'([,;.!?])([a-zA-Z\\[\\]])', r'\\1 \\2', x)\n",
        "\n",
        "    # Demojize\n",
        "    x = emoji.demojize(x)\n",
        "\n",
        "    # Expand contraction\n",
        "    x = contractions.fix(x)\n",
        "\n",
        "    # Lower\n",
        "    x = x.lower()\n",
        "\n",
        "    #correct some acronyms/typos/abbreviations  \n",
        "    x = re.sub(r\"lmao\", \"laughing my ass off\", x)  \n",
        "    x = re.sub(r\"amirite\", \"am i right\", x)\n",
        "    x = re.sub(r\"\\b(tho)\\b\", \"though\", x)\n",
        "    x = re.sub(r\"\\b(ikr)\\b\", \"i know right\", x)\n",
        "    x = re.sub(r\"\\b(ya|u)\\b\", \"you\", x)\n",
        "    x = re.sub(r\"\\b(eu)\\b\", \"europe\", x)\n",
        "    x = re.sub(r\"\\b(da)\\b\", \"the\", x)\n",
        "    x = re.sub(r\"\\b(dat)\\b\", \"that\", x)\n",
        "    x = re.sub(r\"\\b(dats)\\b\", \"that is\", x)\n",
        "    x = re.sub(r\"\\b(cuz)\\b\", \"because\", x)\n",
        "    x = re.sub(r\"\\b(fkn)\\b\", \"fucking\", x)\n",
        "    x = re.sub(r\"\\b(tbh)\\b\", \"to be honest\", x)\n",
        "    x = re.sub(r\"\\b(tbf)\\b\", \"to be fair\", x)\n",
        "    x = re.sub(r\"faux pas\", \"mistake\", x)\n",
        "    x = re.sub(r\"\\b(btw)\\b\", \"by the way\", x)\n",
        "    x = re.sub(r\"\\b(bs)\\b\", \"bullshit\", x)\n",
        "    x = re.sub(r\"\\b(kinda)\\b\", \"kind of\", x)\n",
        "    x = re.sub(r\"\\b(bruh)\\b\", \"bro\", x)\n",
        "    x = re.sub(r\"\\b(w/e)\\b\", \"whatever\", x)\n",
        "    x = re.sub(r\"\\b(w/)\\b\", \"with\", x)\n",
        "    x = re.sub(r\"\\b(w/o)\\b\", \"without\", x)\n",
        "    x = re.sub(r\"\\b(doj)\\b\", \"department of justice\", x)\n",
        "\n",
        "    # replace some words with multiple occurences of a letter, example \"coooool\" turns into --> cool\n",
        "    x = re.sub(r\"\\b(j+e{2,}z+e*)\\b\", \"jeez\", x)\n",
        "    x = re.sub(r\"\\b(co+l+)\\b\", \"cool\", x)\n",
        "    x = re.sub(r\"\\b(g+o+a+l+)\\b\", \"goal\", x)\n",
        "    x = re.sub(r\"\\b(s+h+i+t+)\\b\", \"shit\", x)\n",
        "    x = re.sub(r\"\\b(o+m+g+)\\b\", \"omg\", x)\n",
        "    x = re.sub(r\"\\b(w+t+f+)\\b\", \"wtf\", x)\n",
        "    x = re.sub(r\"\\b(w+h+a+t+)\\b\", \"what\", x)\n",
        "    x = re.sub(r\"\\b(y+e+y+|y+a+y+|y+e+a+h+)\\b\", \"yeah\", x)\n",
        "    x = re.sub(r\"\\b(w+o+w+)\\b\", \"wow\", x)\n",
        "    x = re.sub(r\"\\b(w+h+y+)\\b\", \"why\", x)\n",
        "    x = re.sub(r\"\\b(s+o+)\\b\", \"so\", x)\n",
        "    x = re.sub(r\"\\b(f)\\b\", \"fuck\", x)\n",
        "    x = re.sub(r\"\\b(w+h+o+p+s+)\\b\", \"whoops\", x)\n",
        "    x = re.sub(r\"\\b(ofc)\\b\", \"of course\", x)\n",
        "    x = re.sub(r\"\\b(the us)\\b\", \"usa\", x)\n",
        "    x = re.sub(r\"\\b(gf)\\b\", \"girlfriend\", x)\n",
        "    x = re.sub(r\"\\b(hr)\\b\", \"human ressources\", x)\n",
        "    x = re.sub(r\"\\b(mh)\\b\", \"mental health\", x)\n",
        "    x = re.sub(r\"\\b(idk)\\b\", \"i do not know\", x)\n",
        "    x = re.sub(r\"\\b(gotcha)\\b\", \"i got you\", x)\n",
        "    x = re.sub(r\"\\b(y+e+p+)\\b\", \"yes\", x)\n",
        "    x = re.sub(r\"\\b(a*ha+h[ha]*|a*ha +h[ha]*)\\b\", \"haha\", x)\n",
        "    x = re.sub(r\"\\b(o?l+o+l+[ol]*)\\b\", \"lol\", x)\n",
        "    x = re.sub(r\"\\b(o*ho+h[ho]*|o*ho +h[ho]*)\\b\", \"ohoh\", x)\n",
        "    x = re.sub(r\"\\b(o+h+)\\b\", \"oh\", x)\n",
        "    x = re.sub(r\"\\b(a+h+)\\b\", \"ah\", x)\n",
        "    x = re.sub(r\"\\b(u+h+)\\b\", \"uh\", x)\n",
        "\n",
        "    # Handling emojis\n",
        "    x = re.sub(r\"<3\", \" love \", x)\n",
        "    x = re.sub(r\"xd\", \" smiling_face_with_open_mouth_and_tightly_closed_eyes \", x)\n",
        "    x = re.sub(r\":\\)\", \" smiling_face \", x)\n",
        "    x = re.sub(r\"^_^\", \" smiling_face \", x)\n",
        "    x = re.sub(r\"\\*_\\*\", \" star_struck \", x)\n",
        "    x = re.sub(r\":\\(\", \" frowning_face \", x)\n",
        "    x = re.sub(r\":\\^\\(\", \" frowning_face \", x)\n",
        "    x = re.sub(r\";\\(\", \" frowning_face \", x)\n",
        "    x = re.sub(r\":\\/\",  \" confused_face\", x)\n",
        "    x = re.sub(r\";\\)\",  \" wink\", x)\n",
        "    x = re.sub(r\">__<\",  \" unamused \", x)\n",
        "    x = re.sub(r\"\\b([xo]+x*)\\b\", \" xoxo \", x)\n",
        "    x = re.sub(r\"\\b(n+a+h+)\\b\", \"no\", x)\n",
        "    \n",
        "    # Handling special cases of text\n",
        "    x = re.sub(r\"h a m b e r d e r s\", \"hamberders\", x)\n",
        "    x = re.sub(r\"b e n\", \"ben\", x)\n",
        "    x = re.sub(r\"s a t i r e\", \"satire\", x)\n",
        "    x = re.sub(r\"y i k e s\", \"yikes\", x)\n",
        "    x = re.sub(r\"s p o i l e r\", \"spoiler\", x)\n",
        "    x = re.sub(r\"thankyou\", \"thank you\", x)\n",
        "    x = re.sub(r\"a^r^o^o^o^o^o^o^o^n^d\", \"around\", x)\n",
        "\n",
        "    # Remove special characters and numbers replace by space + remove double space\n",
        "    x = re.sub(r\"\\b([.]{3,})\",\" dots \", x)\n",
        "    x = re.sub(r\"[^A-Za-z!?_]+\",\" \", x)\n",
        "    x = re.sub(r\"\\b([s])\\b *\",\"\", x)\n",
        "    x = re.sub(r\" +\",\" \", x)\n",
        "    x = x.strip()\n",
        "\n",
        "    return x     "
      ],
      "execution_count": null,
      "outputs": []
    },
    {
      "cell_type": "markdown",
      "metadata": {
        "id": "y5FLEtwj3P6C"
      },
      "source": [
        "Now we can define a prediction function that takes one or more samples, and outputs the detected emotions from the model."
      ]
    },
    {
      "cell_type": "code",
      "metadata": {
        "id": "Bm-6OEi_1V6t"
      },
      "source": [
        "def predict_samples(text_samples, model, threshold):\n",
        "    \n",
        "    # Text preprocessing and cleaning\n",
        "    text_samples_clean = [preprocess_corpus(text) for text in text_samples]\n",
        "    \n",
        "    # Tokenizing train data\n",
        "    samples_token = tokenizer(\n",
        "        text = text_samples_clean,\n",
        "        add_special_tokens = True,\n",
        "        max_length = max_length,\n",
        "        truncation = True,\n",
        "        padding = 'max_length', \n",
        "        return_tensors = 'tf',\n",
        "        return_token_type_ids = True,\n",
        "        return_attention_mask = True,\n",
        "        verbose = True,\n",
        "    )\n",
        "    \n",
        "    # Preparing to feed the model\n",
        "    samples = {'input_ids': samples_token['input_ids'],\n",
        "               'attention_mask': samples_token['attention_mask'],\n",
        "               'token_ids': samples_token['token_type_ids']\n",
        "              }\n",
        "    \n",
        "    # Probability predictions\n",
        "    samples_pred_proba = model.predict(samples)\n",
        "    \n",
        "    # Label prediction using threshold\n",
        "    samples_pred_labels = proba_to_labels(samples_pred_proba)\n",
        "    \n",
        "    # if no predictions ==> neutral\n",
        "    for pred in samples_pred_labels:\n",
        "        if pred.sum()==0:\n",
        "            pred[-1]=1\n",
        "            \n",
        "    samples_pred_labels_df = pd.DataFrame(samples_pred_labels)\n",
        "    samples_pred_labels_df = samples_pred_labels_df.apply(lambda x: [GE_taxonomy[i] for i in range(len(x)) if x[i]==1], axis=1)\n",
        "    \n",
        "    #return list(samples_pred_labels_df)\n",
        "    return pd.DataFrame({\"Text\":text_samples, \"Emotions\":list(samples_pred_labels_df)})"
      ],
      "execution_count": null,
      "outputs": []
    },
    {
      "cell_type": "markdown",
      "metadata": {
        "id": "3iZXTQyW3W4L"
      },
      "source": [
        "Let's try on few examples."
      ]
    },
    {
      "cell_type": "code",
      "metadata": {
        "colab": {
          "base_uri": "https://localhost:8080/",
          "height": 173
        },
        "id": "rQ_dctb0O-9A",
        "outputId": "3b22dbc3-319f-4530-dd37-518345cbae9b"
      },
      "source": [
        "# Predict samples\n",
        "predict_samples([\"My favourite food is anything I didn't have to cook myself\", \"are you kiddin me ??!!\", \"my advice is that you should see a doctor\", \"believe in your greatness\"], model, threshold_opt)"
      ],
      "execution_count": null,
      "outputs": [
        {
          "output_type": "execute_result",
          "data": {
            "text/html": [
              "<div>\n",
              "<style scoped>\n",
              "    .dataframe tbody tr th:only-of-type {\n",
              "        vertical-align: middle;\n",
              "    }\n",
              "\n",
              "    .dataframe tbody tr th {\n",
              "        vertical-align: top;\n",
              "    }\n",
              "\n",
              "    .dataframe thead th {\n",
              "        text-align: right;\n",
              "    }\n",
              "</style>\n",
              "<table border=\"1\" class=\"dataframe\">\n",
              "  <thead>\n",
              "    <tr style=\"text-align: right;\">\n",
              "      <th></th>\n",
              "      <th>Text</th>\n",
              "      <th>Emotions</th>\n",
              "    </tr>\n",
              "  </thead>\n",
              "  <tbody>\n",
              "    <tr>\n",
              "      <th>0</th>\n",
              "      <td>My favourite food is anything I didn't have to...</td>\n",
              "      <td>[neutral]</td>\n",
              "    </tr>\n",
              "    <tr>\n",
              "      <th>1</th>\n",
              "      <td>are you kiddin me ??!!</td>\n",
              "      <td>[surprise]</td>\n",
              "    </tr>\n",
              "    <tr>\n",
              "      <th>2</th>\n",
              "      <td>my advice is that you should see a doctor</td>\n",
              "      <td>[neutral]</td>\n",
              "    </tr>\n",
              "    <tr>\n",
              "      <th>3</th>\n",
              "      <td>believe in your greatness</td>\n",
              "      <td>[joy]</td>\n",
              "    </tr>\n",
              "  </tbody>\n",
              "</table>\n",
              "</div>"
            ],
            "text/plain": [
              "                                                Text    Emotions\n",
              "0  My favourite food is anything I didn't have to...   [neutral]\n",
              "1                             are you kiddin me ??!!  [surprise]\n",
              "2          my advice is that you should see a doctor   [neutral]\n",
              "3                          believe in your greatness       [joy]"
            ]
          },
          "metadata": {
            "tags": []
          },
          "execution_count": 64
        }
      ]
    },
    {
      "cell_type": "markdown",
      "metadata": {
        "id": "nWFLQoJR34fk"
      },
      "source": [
        "As we can see, **the detected emotions are not totally incoherent**. \n",
        "\n",
        "**However the first sample comes from the train data where it was initially labeled as neutral. The predictions made by our model make a little more sens in our opinion (it is of course very subjective)**"
      ]
    },
    {
      "cell_type": "markdown",
      "metadata": {
        "id": "5wbWDq2ih0qq"
      },
      "source": [
        "# Conclusion"
      ]
    },
    {
      "cell_type": "markdown",
      "metadata": {
        "id": "PmYA0qoDh4qC"
      },
      "source": [
        "*   In our opinion, **focusing on the 7 emotions in Ekman taxonomy is not worth it** as we did not observe a significant shift from score we obtained using GoEmotions, compared to the amount of details we lost.\n",
        "\n",
        "*   This proves that there is a **promising margin for improvement** when it comes to detecting a large spectrum of emotions.\n",
        "\n",
        "*   **Some 'Neutral' training samples were not so 'Neutral'**. Let's see what we can do about that in the next notebook ...\n",
        "\n"
      ]
    }
  ]
}