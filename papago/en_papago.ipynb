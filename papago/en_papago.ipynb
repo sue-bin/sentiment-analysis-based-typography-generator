{
 "cells": [
  {
   "cell_type": "code",
   "execution_count": 2,
   "metadata": {},
   "outputs": [],
   "source": [
    "import os\n",
    "import sys\n",
    "import urllib.request\n",
    "import json\n",
    "import pandas as pd\n",
    "\n",
    "#정해진 영어 데이터셋을 한글로 번역할 때 사용 (전에 reddit 데이터셋을 통째로 번역 시도하였을 때)\n",
    "\n",
    "def papago(Text):\n",
    "    for number in range(10): #10개만 돌려보기 -- 근데 그랬더니 하루 사용량 716/10000 사용함 .... \n",
    "        encText = urllib.parse.quote(srcText['text'][number])\n",
    "        data = \"source=en&target=ko&text=\" + encText #input en output ko\n",
    "        url = \"https://openapi.naver.com/v1/papago/n2mt\"\n",
    "        request = urllib.request.Request(url)\n",
    "        request.add_header(\"X-Naver-Client-Id\",client_id)\n",
    "        request.add_header(\"X-Naver-Client-Secret\",client_secret)\n",
    "        response = urllib.request.urlopen(request, data=data.encode(\"utf-8\"))\n",
    "        rescode = response.getcode()\n",
    "        \n",
    "        if(rescode==200):\n",
    "            response_body = response.read()\n",
    "            res = json.loads(response_body.decode('utf-8'))\n",
    "            from pprint import pprint\n",
    "            pprint(res)\n",
    "            \n",
    "            text = res['message']['result']['translatedText']\n",
    "            \n",
    "            # 원래 csv의 text 부분 한글로 덮어쓰기\n",
    "            srcText['text'][number] = text\n",
    "            \n",
    "        else:\n",
    "            print(\"Error Code:\" + rescode)"
   ]
  },
  {
   "cell_type": "code",
   "execution_count": 4,
   "metadata": {},
   "outputs": [
    {
     "name": "stdout",
     "output_type": "stream",
     "text": [
      "{'message': {'@service': 'naverservice.nmt.proxy',\n",
      "             '@type': 'response',\n",
      "             '@version': '1.0.0',\n",
      "             'result': {'engineType': 'N2MT',\n",
      "                        'pivot': None,\n",
      "                        'srcLangType': 'en',\n",
      "                        'tarLangType': 'ko',\n",
      "                        'translatedText': '우리는 희망할 수 있다'}}}\n"
     ]
    },
    {
     "name": "stderr",
     "output_type": "stream",
     "text": [
      "<ipython-input-2-d4f7ff01c7fd>:27: SettingWithCopyWarning: \n",
      "A value is trying to be set on a copy of a slice from a DataFrame\n",
      "\n",
      "See the caveats in the documentation: https://pandas.pydata.org/pandas-docs/stable/user_guide/indexing.html#returning-a-view-versus-a-copy\n",
      "  srcText['text'][number] = text\n"
     ]
    },
    {
     "name": "stdout",
     "output_type": "stream",
     "text": [
      "{'message': {'@service': 'naverservice.nmt.proxy',\n",
      "             '@type': 'response',\n",
      "             '@version': '1.0.0',\n",
      "             'result': {'engineType': 'N2MT',\n",
      "                        'pivot': None,\n",
      "                        'srcLangType': 'en',\n",
      "                        'tarLangType': 'ko',\n",
      "                        'translatedText': '쉿, 그들에게 그 생각을 주지 마세요!'}}}\n",
      "{'message': {'@service': 'naverservice.nmt.proxy',\n",
      "             '@type': 'response',\n",
      "             '@version': '1.0.0',\n",
      "             'result': {'engineType': 'UNDEF_MULTI_SENTENCE',\n",
      "                        'pivot': None,\n",
      "                        'srcLangType': 'en',\n",
      "                        'tarLangType': 'ko',\n",
      "                        'translatedText': '정말 고마워, 친절한 이방인. 난 그게 정말 필요해'}}}\n",
      "{'message': {'@service': 'naverservice.nmt.proxy',\n",
      "             '@type': 'response',\n",
      "             '@version': '1.0.0',\n",
      "             'result': {'engineType': 'N2MT',\n",
      "                        'pivot': None,\n",
      "                        'srcLangType': 'en',\n",
      "                        'tarLangType': 'ko',\n",
      "                        'translatedText': '나도 알아. 하지만 네가 직접 손질해서 만드는 게 더 나을 '\n",
      "                                          '거야. 그렇게 힘들지도 않고 복용해도 돼.'}}}\n",
      "{'message': {'@service': 'naverservice.nmt.proxy',\n",
      "             '@type': 'response',\n",
      "             '@version': '1.0.0',\n",
      "             'result': {'engineType': 'UNDEF_MULTI_SENTENCE',\n",
      "                        'pivot': None,\n",
      "                        'srcLangType': 'en',\n",
      "                        'tarLangType': 'ko',\n",
      "                        'translatedText': '솔직히 놀랐어요. 우리는 훨씬 더 멀리 떨어졌어야 했다.'}}}\n",
      "{'message': {'@service': 'naverservice.nmt.proxy',\n",
      "             '@type': 'response',\n",
      "             '@version': '1.0.0',\n",
      "             'result': {'engineType': 'N2MT',\n",
      "                        'pivot': None,\n",
      "                        'srcLangType': 'en',\n",
      "                        'tarLangType': 'ko',\n",
      "                        'translatedText': '법학 페티시스트는 전문성에 따라 출발한다.'}}}\n",
      "{'message': {'@service': 'naverservice.nmt.proxy',\n",
      "             '@type': 'response',\n",
      "             '@version': '1.0.0',\n",
      "             'result': {'engineType': 'UNDEF_MULTI_SENTENCE',\n",
      "                        'pivot': None,\n",
      "                        'srcLangType': 'en',\n",
      "                        'tarLangType': 'ko',\n",
      "                        'translatedText': '내 최악의 악몽 중 하나지 에휴'}}}\n",
      "{'message': {'@service': 'naverservice.nmt.proxy',\n",
      "             '@type': 'response',\n",
      "             '@version': '1.0.0',\n",
      "             'result': {'engineType': 'UNDEF_MULTI_SENTENCE',\n",
      "                        'pivot': None,\n",
      "                        'srcLangType': 'en',\n",
      "                        'tarLangType': 'ko',\n",
      "                        'translatedText': '이거 진짜야? 🤔'}}}\n",
      "{'message': {'@service': 'naverservice.nmt.proxy',\n",
      "             '@type': 'response',\n",
      "             '@version': '1.0.0',\n",
      "             'result': {'engineType': 'UNDEF_MULTI_SENTENCE',\n",
      "                        'pivot': None,\n",
      "                        'srcLangType': 'en',\n",
      "                        'tarLangType': 'ko',\n",
      "                        'translatedText': '그들이 신선하고 깨끗할 때 내가 가장 좋아하는 깍지. 슬프게도, '\n",
      "                                          '내 최근 팩들은 모두 짙은 갈색의 시럽 덩어리 같아.'}}}\n",
      "{'message': {'@service': 'naverservice.nmt.proxy',\n",
      "             '@type': 'response',\n",
      "             '@version': '1.0.0',\n",
      "             'result': {'engineType': 'N2MT',\n",
      "                        'pivot': None,\n",
      "                        'srcLangType': 'en',\n",
      "                        'tarLangType': 'ko',\n",
      "                        'translatedText': '저는 완전히 상상된 대화에도 푹 빠졌어요 😅 저는 명상을 하고 '\n",
      "                                          '토끼굴 아래로 내려가는 것을 멈추는 법을 배우려고 노력하고 '\n",
      "                                          '있어요.'}}}\n"
     ]
    }
   ],
   "source": [
    "client_id = \"client id\" # 여기에 발급받은 Client ID 입력 - ko_papago 파일에 제 아이디비번 있습니답\n",
    "client_secret = \"client secret\" # 여기에 발급받은 Client sceret 입력\n",
    "\n",
    "#번역할 csv 불러오기\n",
    "srcText = pd.read_csv(\"data/full_dataset/goemotions_2.csv\")\n",
    "\n",
    "papago(srcText)"
   ]
  },
  {
   "cell_type": "code",
   "execution_count": 7,
   "metadata": {},
   "outputs": [
    {
     "data": {
      "text/plain": [
       "0                                         우리는 희망할 수 있다\n",
       "1                                쉿, 그들에게 그 생각을 주지 마세요!\n",
       "2                         정말 고마워, 친절한 이방인. 난 그게 정말 필요해\n",
       "3    나도 알아. 하지만 네가 직접 손질해서 만드는 게 더 나을 거야. 그렇게 힘들지도 ...\n",
       "4                      솔직히 놀랐어요. 우리는 훨씬 더 멀리 떨어졌어야 했다.\n",
       "5                              법학 페티시스트는 전문성에 따라 출발한다.\n",
       "6                                    내 최악의 악몽 중 하나지 에휴\n",
       "7                                            이거 진짜야? 🤔\n",
       "8    그들이 신선하고 깨끗할 때 내가 가장 좋아하는 깍지. 슬프게도, 내 최근 팩들은 모...\n",
       "9    저는 완전히 상상된 대화에도 푹 빠졌어요 😅 저는 명상을 하고 토끼굴 아래로 내려가...\n",
       "Name: text, dtype: object"
      ]
     },
     "execution_count": 7,
     "metadata": {},
     "output_type": "execute_result"
    }
   ],
   "source": [
    "# 번역 완료한 우리의 emotions csv \n",
    "\n",
    "srcText['text'].head(10)"
   ]
  },
  {
   "cell_type": "code",
   "execution_count": 8,
   "metadata": {},
   "outputs": [
    {
     "data": {
      "text/plain": [
       "0                                          We can hope\n",
       "1                       Shhh don't give them the idea!\n",
       "2    Thank you so much, kind stranger. I really nee...\n",
       "3    Ion know but it would be better for you to jus...\n",
       "4    I'm honestly surprised. We should have fallen ...\n",
       "5    Jurisprudence fetishist gets off on technicality.\n",
       "6                     One of my worst nightmares. Ugh.\n",
       "7                                      Is this real? 🤔\n",
       "8    My favorite pod when they are fresh & clear. S...\n",
       "9    I get wound up over completely imagined conver...\n",
       "Name: text, dtype: object"
      ]
     },
     "execution_count": 8,
     "metadata": {},
     "output_type": "execute_result"
    }
   ],
   "source": [
    "#원래 csv (영어 원본)\n",
    "\n",
    "originalText = pd.read_csv(\"data/full_dataset/goemotions_2.csv\")\n",
    "originalText['text'].head(10)"
   ]
  },
  {
   "cell_type": "code",
   "execution_count": null,
   "metadata": {},
   "outputs": [],
   "source": []
  }
 ],
 "metadata": {
  "kernelspec": {
   "display_name": "Python 3",
   "language": "python",
   "name": "python3"
  },
  "language_info": {
   "codemirror_mode": {
    "name": "ipython",
    "version": 3
   },
   "file_extension": ".py",
   "mimetype": "text/x-python",
   "name": "python",
   "nbconvert_exporter": "python",
   "pygments_lexer": "ipython3",
   "version": "3.8.3"
  }
 },
 "nbformat": 4,
 "nbformat_minor": 4
}
