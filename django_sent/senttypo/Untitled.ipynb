{
 "cells": [
  {
   "cell_type": "code",
   "execution_count": 1,
   "id": "0b1fcf6b",
   "metadata": {},
   "outputs": [],
   "source": [
    "from sent import sentence_to_image "
   ]
  },
  {
   "cell_type": "code",
   "execution_count": 2,
   "id": "84ffc393",
   "metadata": {},
   "outputs": [
    {
     "data": {
      "text/plain": [
       "'/Users/jupiter/Downloads/output.png'"
      ]
     },
     "execution_count": 2,
     "metadata": {},
     "output_type": "execute_result"
    }
   ],
   "source": [
    "sentence_to_image('I AM ANGRY', 'anger', '/Users/jupiter/Downloads/')"
   ]
  },
  {
   "cell_type": "code",
   "execution_count": null,
   "id": "0626f7c7",
   "metadata": {},
   "outputs": [],
   "source": []
  }
 ],
 "metadata": {
  "kernelspec": {
   "display_name": "Python 3",
   "language": "python",
   "name": "python3"
  },
  "language_info": {
   "codemirror_mode": {
    "name": "ipython",
    "version": 3
   },
   "file_extension": ".py",
   "mimetype": "text/x-python",
   "name": "python",
   "nbconvert_exporter": "python",
   "pygments_lexer": "ipython3",
   "version": "3.8.8"
  }
 },
 "nbformat": 4,
 "nbformat_minor": 5
}
